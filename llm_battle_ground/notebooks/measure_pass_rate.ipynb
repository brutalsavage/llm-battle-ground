{
 "cells": [
  {
   "cell_type": "code",
   "execution_count": 1,
   "id": "deef4b05",
   "metadata": {},
   "outputs": [],
   "source": [
    "# Import necessary libraries\n",
    "import os\n",
    "import pandas as pd\n",
    "import json\n",
    "import plotly.express as px\n",
    "import plotly.graph_objects as go\n",
    "\n",
    "def load_df(in_jsonl_path):\n",
    "    with open(in_jsonl_path, \"r\") as json_file:\n",
    "        json_list = list(json_file)\n",
    "\n",
    "    jsonl_loaded = []\n",
    "    for json_str in json_list: \n",
    "        result = json.loads(json_str)\n",
    "        jsonl_loaded.append(result)\n",
    "    return pd.DataFrame(jsonl_loaded)\n"
   ]
  },
  {
   "cell_type": "code",
   "execution_count": 77,
   "id": "0db0957f",
   "metadata": {
    "scrolled": true
   },
   "outputs": [
    {
     "data": {
      "text/html": [
       "<div>\n",
       "<style scoped>\n",
       "    .dataframe tbody tr th:only-of-type {\n",
       "        vertical-align: middle;\n",
       "    }\n",
       "\n",
       "    .dataframe tbody tr th {\n",
       "        vertical-align: top;\n",
       "    }\n",
       "\n",
       "    .dataframe thead th {\n",
       "        text-align: right;\n",
       "    }\n",
       "</style>\n",
       "<table border=\"1\" class=\"dataframe\">\n",
       "  <thead>\n",
       "    <tr style=\"text-align: right;\">\n",
       "      <th></th>\n",
       "      <th>task_input</th>\n",
       "      <th>code_snippet</th>\n",
       "      <th>raw_response</th>\n",
       "      <th>cleaned_response</th>\n",
       "      <th>n_pass</th>\n",
       "      <th>difficulty</th>\n",
       "      <th>frontend_question_id</th>\n",
       "      <th>loc</th>\n",
       "    </tr>\n",
       "  </thead>\n",
       "  <tbody>\n",
       "    <tr>\n",
       "      <th>0</th>\n",
       "      <td>\\nLeetCode Problem #41\\nTitle: First Missing P...</td>\n",
       "      <td>class Solution:\\n    def firstMissingPositive(...</td>\n",
       "      <td>```python\\nfrom typing import List\\n\\nclass So...</td>\n",
       "      <td>\\nfrom typing import List\\n\\nclass Solution:\\n...</td>\n",
       "      <td>1</td>\n",
       "      <td>3.0</td>\n",
       "      <td>41.0</td>\n",
       "      <td>40</td>\n",
       "    </tr>\n",
       "    <tr>\n",
       "      <th>1</th>\n",
       "      <td>\\nLeetCode Problem #167\\nTitle: Two Sum II - I...</td>\n",
       "      <td>class Solution:\\n    def twoSum(self, numbers:...</td>\n",
       "      <td>```python\\nfrom typing import List\\n\\nclass So...</td>\n",
       "      <td>\\nfrom typing import List\\n\\nclass Solution:\\n...</td>\n",
       "      <td>1</td>\n",
       "      <td>2.0</td>\n",
       "      <td>167.0</td>\n",
       "      <td>160</td>\n",
       "    </tr>\n",
       "    <tr>\n",
       "      <th>2</th>\n",
       "      <td>\\nLeetCode Problem #301\\nTitle: Remove Invalid...</td>\n",
       "      <td>class Solution:\\n    def removeInvalidParenthe...</td>\n",
       "      <td>```python\\nfrom typing import List\\n\\nclass So...</td>\n",
       "      <td>\\nfrom typing import List\\n\\nclass Solution:\\n...</td>\n",
       "      <td>1</td>\n",
       "      <td>3.0</td>\n",
       "      <td>301.0</td>\n",
       "      <td>240</td>\n",
       "    </tr>\n",
       "    <tr>\n",
       "      <th>3</th>\n",
       "      <td>\\nLeetCode Problem #363\\nTitle: Max Sum of Rec...</td>\n",
       "      <td>class Solution:\\n    def maxSumSubmatrix(self,...</td>\n",
       "      <td>```python\\nfrom typing import List\\n\\nclass So...</td>\n",
       "      <td>\\nfrom typing import List\\n\\nclass Solution:\\n...</td>\n",
       "      <td>1</td>\n",
       "      <td>3.0</td>\n",
       "      <td>363.0</td>\n",
       "      <td>280</td>\n",
       "    </tr>\n",
       "    <tr>\n",
       "      <th>4</th>\n",
       "      <td>\\nLeetCode Problem #458\\nTitle: Poor Pigs\\nDes...</td>\n",
       "      <td>class Solution:\\n    def poorPigs(self, bucket...</td>\n",
       "      <td>```python\\nclass Solution:\\n    def poorPigs(s...</td>\n",
       "      <td>\\nclass Solution:\\n    def poorPigs(self, buck...</td>\n",
       "      <td>1</td>\n",
       "      <td>3.0</td>\n",
       "      <td>458.0</td>\n",
       "      <td>360</td>\n",
       "    </tr>\n",
       "    <tr>\n",
       "      <th>...</th>\n",
       "      <td>...</td>\n",
       "      <td>...</td>\n",
       "      <td>...</td>\n",
       "      <td>...</td>\n",
       "      <td>...</td>\n",
       "      <td>...</td>\n",
       "      <td>...</td>\n",
       "      <td>...</td>\n",
       "    </tr>\n",
       "    <tr>\n",
       "      <th>1155</th>\n",
       "      <td>LeetCode Problem #2809\\nTitle: Minimum Time to...</td>\n",
       "      <td>class Solution:\\n    def minimumTime(self, num...</td>\n",
       "      <td>class Solution:\\n    def minimumTime(self, num...</td>\n",
       "      <td>NaN</td>\n",
       "      <td>1</td>\n",
       "      <td>3.0</td>\n",
       "      <td>2809.0</td>\n",
       "      <td>2126</td>\n",
       "    </tr>\n",
       "    <tr>\n",
       "      <th>1156</th>\n",
       "      <td>LeetCode Problem #2811\\nTitle: Check if it is ...</td>\n",
       "      <td>class Solution:\\n    def canSplitArray(self, n...</td>\n",
       "      <td>```python\\nfrom typing import List\\n\\nclass So...</td>\n",
       "      <td>NaN</td>\n",
       "      <td>1</td>\n",
       "      <td>2.0</td>\n",
       "      <td>2811.0</td>\n",
       "      <td>2128</td>\n",
       "    </tr>\n",
       "    <tr>\n",
       "      <th>1157</th>\n",
       "      <td>LeetCode Problem #2812\\nTitle: Find the Safest...</td>\n",
       "      <td>class Solution:\\n    def maximumSafenessFactor...</td>\n",
       "      <td>```python\\nfrom typing import List\\n\\nclass So...</td>\n",
       "      <td>NaN</td>\n",
       "      <td>1</td>\n",
       "      <td>2.0</td>\n",
       "      <td>2812.0</td>\n",
       "      <td>2129</td>\n",
       "    </tr>\n",
       "    <tr>\n",
       "      <th>1158</th>\n",
       "      <td>LeetCode Problem #2813\\nTitle: Maximum Eleganc...</td>\n",
       "      <td>class Solution:\\n    def findMaximumElegance(s...</td>\n",
       "      <td>```python\\nfrom typing import List\\n\\nclass So...</td>\n",
       "      <td>NaN</td>\n",
       "      <td>1</td>\n",
       "      <td>3.0</td>\n",
       "      <td>2813.0</td>\n",
       "      <td>2130</td>\n",
       "    </tr>\n",
       "    <tr>\n",
       "      <th>1159</th>\n",
       "      <td>LeetCode Problem #2818\\nTitle: Apply Operation...</td>\n",
       "      <td>class Solution:\\n    def maximumScore(self, nu...</td>\n",
       "      <td>```python\\nclass Solution:\\n    def maximumSco...</td>\n",
       "      <td>NaN</td>\n",
       "      <td>1</td>\n",
       "      <td>3.0</td>\n",
       "      <td>2818.0</td>\n",
       "      <td>2134</td>\n",
       "    </tr>\n",
       "  </tbody>\n",
       "</table>\n",
       "<p>1160 rows × 8 columns</p>\n",
       "</div>"
      ],
      "text/plain": [
       "                                             task_input  \\\n",
       "0     \\nLeetCode Problem #41\\nTitle: First Missing P...   \n",
       "1     \\nLeetCode Problem #167\\nTitle: Two Sum II - I...   \n",
       "2     \\nLeetCode Problem #301\\nTitle: Remove Invalid...   \n",
       "3     \\nLeetCode Problem #363\\nTitle: Max Sum of Rec...   \n",
       "4     \\nLeetCode Problem #458\\nTitle: Poor Pigs\\nDes...   \n",
       "...                                                 ...   \n",
       "1155  LeetCode Problem #2809\\nTitle: Minimum Time to...   \n",
       "1156  LeetCode Problem #2811\\nTitle: Check if it is ...   \n",
       "1157  LeetCode Problem #2812\\nTitle: Find the Safest...   \n",
       "1158  LeetCode Problem #2813\\nTitle: Maximum Eleganc...   \n",
       "1159  LeetCode Problem #2818\\nTitle: Apply Operation...   \n",
       "\n",
       "                                           code_snippet  \\\n",
       "0     class Solution:\\n    def firstMissingPositive(...   \n",
       "1     class Solution:\\n    def twoSum(self, numbers:...   \n",
       "2     class Solution:\\n    def removeInvalidParenthe...   \n",
       "3     class Solution:\\n    def maxSumSubmatrix(self,...   \n",
       "4     class Solution:\\n    def poorPigs(self, bucket...   \n",
       "...                                                 ...   \n",
       "1155  class Solution:\\n    def minimumTime(self, num...   \n",
       "1156  class Solution:\\n    def canSplitArray(self, n...   \n",
       "1157  class Solution:\\n    def maximumSafenessFactor...   \n",
       "1158  class Solution:\\n    def findMaximumElegance(s...   \n",
       "1159  class Solution:\\n    def maximumScore(self, nu...   \n",
       "\n",
       "                                           raw_response  \\\n",
       "0     ```python\\nfrom typing import List\\n\\nclass So...   \n",
       "1     ```python\\nfrom typing import List\\n\\nclass So...   \n",
       "2     ```python\\nfrom typing import List\\n\\nclass So...   \n",
       "3     ```python\\nfrom typing import List\\n\\nclass So...   \n",
       "4     ```python\\nclass Solution:\\n    def poorPigs(s...   \n",
       "...                                                 ...   \n",
       "1155  class Solution:\\n    def minimumTime(self, num...   \n",
       "1156  ```python\\nfrom typing import List\\n\\nclass So...   \n",
       "1157  ```python\\nfrom typing import List\\n\\nclass So...   \n",
       "1158  ```python\\nfrom typing import List\\n\\nclass So...   \n",
       "1159  ```python\\nclass Solution:\\n    def maximumSco...   \n",
       "\n",
       "                                       cleaned_response  n_pass  difficulty  \\\n",
       "0     \\nfrom typing import List\\n\\nclass Solution:\\n...       1         3.0   \n",
       "1     \\nfrom typing import List\\n\\nclass Solution:\\n...       1         2.0   \n",
       "2     \\nfrom typing import List\\n\\nclass Solution:\\n...       1         3.0   \n",
       "3     \\nfrom typing import List\\n\\nclass Solution:\\n...       1         3.0   \n",
       "4     \\nclass Solution:\\n    def poorPigs(self, buck...       1         3.0   \n",
       "...                                                 ...     ...         ...   \n",
       "1155                                                NaN       1         3.0   \n",
       "1156                                                NaN       1         2.0   \n",
       "1157                                                NaN       1         2.0   \n",
       "1158                                                NaN       1         3.0   \n",
       "1159                                                NaN       1         3.0   \n",
       "\n",
       "      frontend_question_id   loc  \n",
       "0                     41.0    40  \n",
       "1                    167.0   160  \n",
       "2                    301.0   240  \n",
       "3                    363.0   280  \n",
       "4                    458.0   360  \n",
       "...                    ...   ...  \n",
       "1155                2809.0  2126  \n",
       "1156                2811.0  2128  \n",
       "1157                2812.0  2129  \n",
       "1158                2813.0  2130  \n",
       "1159                2818.0  2134  \n",
       "\n",
       "[1160 rows x 8 columns]"
      ]
     },
     "execution_count": 77,
     "metadata": {},
     "output_type": "execute_result"
    }
   ],
   "source": [
    "fname_gpt3p5_0613_raw = \"leetcode_generation__provider_eq_openai__vanilla_zero_shot__filter_ez_eq_0.25_filter_med_eq_0.5_filter_hrd_eq_1.0__model_eq_gpt_3.5_turbo_0613__temperature_eq_0.7__n_pass_1.jsonl\"\n",
    "fname_gpt3p5_0613_raw_df = load_df(os.path.join(\"..\", \"results\", fname_gpt3p5_0613_raw))\n",
    "fname_gpt3p5_0613_raw_df"
   ]
  },
  {
   "cell_type": "code",
   "execution_count": 78,
   "id": "b2f31f3e",
   "metadata": {
    "scrolled": true
   },
   "outputs": [
    {
     "data": {
      "text/html": [
       "<div>\n",
       "<style scoped>\n",
       "    .dataframe tbody tr th:only-of-type {\n",
       "        vertical-align: middle;\n",
       "    }\n",
       "\n",
       "    .dataframe tbody tr th {\n",
       "        vertical-align: top;\n",
       "    }\n",
       "\n",
       "    .dataframe thead th {\n",
       "        text-align: right;\n",
       "    }\n",
       "</style>\n",
       "<table border=\"1\" class=\"dataframe\">\n",
       "  <thead>\n",
       "    <tr style=\"text-align: right;\">\n",
       "      <th></th>\n",
       "      <th>frontend_question_id</th>\n",
       "      <th>question_id</th>\n",
       "      <th>question_slug</th>\n",
       "      <th>status</th>\n",
       "      <th>reward</th>\n",
       "      <th>done</th>\n",
       "      <th>difficulty</th>\n",
       "    </tr>\n",
       "  </thead>\n",
       "  <tbody>\n",
       "    <tr>\n",
       "      <th>0</th>\n",
       "      <td>41.0</td>\n",
       "      <td>41.0</td>\n",
       "      <td>first-missing-positive</td>\n",
       "      <td>Accepted</td>\n",
       "      <td>True</td>\n",
       "      <td>True</td>\n",
       "      <td>NaN</td>\n",
       "    </tr>\n",
       "    <tr>\n",
       "      <th>1</th>\n",
       "      <td>81.0</td>\n",
       "      <td>81.0</td>\n",
       "      <td>search-in-rotated-sorted-array-ii</td>\n",
       "      <td>Accepted</td>\n",
       "      <td>True</td>\n",
       "      <td>True</td>\n",
       "      <td>2.0</td>\n",
       "    </tr>\n",
       "    <tr>\n",
       "      <th>2</th>\n",
       "      <td>301.0</td>\n",
       "      <td>301.0</td>\n",
       "      <td>remove-invalid-parentheses</td>\n",
       "      <td>Accepted</td>\n",
       "      <td>True</td>\n",
       "      <td>True</td>\n",
       "      <td>3.0</td>\n",
       "    </tr>\n",
       "    <tr>\n",
       "      <th>3</th>\n",
       "      <td>363.0</td>\n",
       "      <td>363.0</td>\n",
       "      <td>max-sum-of-rectangle-no-larger-than-k</td>\n",
       "      <td>Accepted</td>\n",
       "      <td>True</td>\n",
       "      <td>True</td>\n",
       "      <td>3.0</td>\n",
       "    </tr>\n",
       "    <tr>\n",
       "      <th>4</th>\n",
       "      <td>458.0</td>\n",
       "      <td>458.0</td>\n",
       "      <td>poor-pigs</td>\n",
       "      <td>Accepted</td>\n",
       "      <td>True</td>\n",
       "      <td>True</td>\n",
       "      <td>3.0</td>\n",
       "    </tr>\n",
       "    <tr>\n",
       "      <th>...</th>\n",
       "      <td>...</td>\n",
       "      <td>...</td>\n",
       "      <td>...</td>\n",
       "      <td>...</td>\n",
       "      <td>...</td>\n",
       "      <td>...</td>\n",
       "      <td>...</td>\n",
       "    </tr>\n",
       "    <tr>\n",
       "      <th>1160</th>\n",
       "      <td>2809.0</td>\n",
       "      <td>2952.0</td>\n",
       "      <td>minimum-time-to-make-array-sum-at-most-x</td>\n",
       "      <td>Runtime Error</td>\n",
       "      <td>False</td>\n",
       "      <td>False</td>\n",
       "      <td>3.0</td>\n",
       "    </tr>\n",
       "    <tr>\n",
       "      <th>1161</th>\n",
       "      <td>2811.0</td>\n",
       "      <td>2916.0</td>\n",
       "      <td>check-if-it-is-possible-to-split-array</td>\n",
       "      <td>Wrong Answer</td>\n",
       "      <td>False</td>\n",
       "      <td>False</td>\n",
       "      <td>2.0</td>\n",
       "    </tr>\n",
       "    <tr>\n",
       "      <th>1162</th>\n",
       "      <td>2812.0</td>\n",
       "      <td>2914.0</td>\n",
       "      <td>find-the-safest-path-in-a-grid</td>\n",
       "      <td>Runtime Error</td>\n",
       "      <td>False</td>\n",
       "      <td>False</td>\n",
       "      <td>2.0</td>\n",
       "    </tr>\n",
       "    <tr>\n",
       "      <th>1163</th>\n",
       "      <td>2813.0</td>\n",
       "      <td>2894.0</td>\n",
       "      <td>maximum-elegance-of-a-k-length-subsequence</td>\n",
       "      <td>Wrong Answer</td>\n",
       "      <td>False</td>\n",
       "      <td>False</td>\n",
       "      <td>3.0</td>\n",
       "    </tr>\n",
       "    <tr>\n",
       "      <th>1164</th>\n",
       "      <td>2818.0</td>\n",
       "      <td>3001.0</td>\n",
       "      <td>apply-operations-to-maximize-score</td>\n",
       "      <td>Submission Timed-Out</td>\n",
       "      <td>False</td>\n",
       "      <td>False</td>\n",
       "      <td>3.0</td>\n",
       "    </tr>\n",
       "  </tbody>\n",
       "</table>\n",
       "<p>1165 rows × 7 columns</p>\n",
       "</div>"
      ],
      "text/plain": [
       "      frontend_question_id  question_id  \\\n",
       "0                     41.0         41.0   \n",
       "1                     81.0         81.0   \n",
       "2                    301.0        301.0   \n",
       "3                    363.0        363.0   \n",
       "4                    458.0        458.0   \n",
       "...                    ...          ...   \n",
       "1160                2809.0       2952.0   \n",
       "1161                2811.0       2916.0   \n",
       "1162                2812.0       2914.0   \n",
       "1163                2813.0       2894.0   \n",
       "1164                2818.0       3001.0   \n",
       "\n",
       "                                   question_slug                status  \\\n",
       "0                         first-missing-positive              Accepted   \n",
       "1              search-in-rotated-sorted-array-ii              Accepted   \n",
       "2                     remove-invalid-parentheses              Accepted   \n",
       "3          max-sum-of-rectangle-no-larger-than-k              Accepted   \n",
       "4                                      poor-pigs              Accepted   \n",
       "...                                          ...                   ...   \n",
       "1160    minimum-time-to-make-array-sum-at-most-x         Runtime Error   \n",
       "1161      check-if-it-is-possible-to-split-array          Wrong Answer   \n",
       "1162              find-the-safest-path-in-a-grid         Runtime Error   \n",
       "1163  maximum-elegance-of-a-k-length-subsequence          Wrong Answer   \n",
       "1164          apply-operations-to-maximize-score  Submission Timed-Out   \n",
       "\n",
       "      reward   done  difficulty  \n",
       "0       True   True         NaN  \n",
       "1       True   True         2.0  \n",
       "2       True   True         3.0  \n",
       "3       True   True         3.0  \n",
       "4       True   True         3.0  \n",
       "...      ...    ...         ...  \n",
       "1160   False  False         3.0  \n",
       "1161   False  False         2.0  \n",
       "1162   False  False         2.0  \n",
       "1163   False  False         3.0  \n",
       "1164   False  False         3.0  \n",
       "\n",
       "[1165 rows x 7 columns]"
      ]
     },
     "execution_count": 78,
     "metadata": {},
     "output_type": "execute_result"
    }
   ],
   "source": [
    "fname_gpt3p5_0613 = fname_gpt3p5_0613_raw.replace(\"generation\", \"evaluation\")\n",
    "fname_gpt3p5_0613_df = load_df(os.path.join(\"..\", \"results\", fname_gpt3p5_0613))\n",
    "fname_gpt3p5_0613_df\n"
   ]
  },
  {
   "cell_type": "code",
   "execution_count": 79,
   "id": "98fdbb74",
   "metadata": {
    "scrolled": true
   },
   "outputs": [
    {
     "data": {
      "text/html": [
       "<div>\n",
       "<style scoped>\n",
       "    .dataframe tbody tr th:only-of-type {\n",
       "        vertical-align: middle;\n",
       "    }\n",
       "\n",
       "    .dataframe tbody tr th {\n",
       "        vertical-align: top;\n",
       "    }\n",
       "\n",
       "    .dataframe thead th {\n",
       "        text-align: right;\n",
       "    }\n",
       "</style>\n",
       "<table border=\"1\" class=\"dataframe\">\n",
       "  <thead>\n",
       "    <tr style=\"text-align: right;\">\n",
       "      <th></th>\n",
       "      <th>task_input</th>\n",
       "      <th>code_snippet</th>\n",
       "      <th>raw_response</th>\n",
       "      <th>cleaned_response</th>\n",
       "      <th>n_pass</th>\n",
       "      <th>difficulty</th>\n",
       "      <th>frontend_question_id</th>\n",
       "      <th>loc</th>\n",
       "    </tr>\n",
       "  </thead>\n",
       "  <tbody>\n",
       "    <tr>\n",
       "      <th>0</th>\n",
       "      <td>\\nLeetCode Problem #41\\nTitle: First Missing P...</td>\n",
       "      <td>class Solution:\\n    def firstMissingPositive(...</td>\n",
       "      <td>```python\\nfrom typing import List\\n\\nclass So...</td>\n",
       "      <td>\\nfrom typing import List\\n\\nclass Solution:\\n...</td>\n",
       "      <td>1</td>\n",
       "      <td>3.0</td>\n",
       "      <td>41.0</td>\n",
       "      <td>40</td>\n",
       "    </tr>\n",
       "    <tr>\n",
       "      <th>1</th>\n",
       "      <td>\\nLeetCode Problem #81\\nTitle: Search in Rotat...</td>\n",
       "      <td>class Solution:\\n    def search(self, nums: Li...</td>\n",
       "      <td>```python\\nclass Solution:\\n    def search(sel...</td>\n",
       "      <td>\\nclass Solution:\\n    def search(self, nums: ...</td>\n",
       "      <td>1</td>\n",
       "      <td>2.0</td>\n",
       "      <td>81.0</td>\n",
       "      <td>80</td>\n",
       "    </tr>\n",
       "    <tr>\n",
       "      <th>2</th>\n",
       "      <td>\\nLeetCode Problem #301\\nTitle: Remove Invalid...</td>\n",
       "      <td>class Solution:\\n    def removeInvalidParenthe...</td>\n",
       "      <td>```python\\nfrom typing import List\\n\\nclass So...</td>\n",
       "      <td>\\nfrom typing import List\\n\\nclass Solution:\\n...</td>\n",
       "      <td>1</td>\n",
       "      <td>3.0</td>\n",
       "      <td>301.0</td>\n",
       "      <td>240</td>\n",
       "    </tr>\n",
       "    <tr>\n",
       "      <th>3</th>\n",
       "      <td>\\nLeetCode Problem #363\\nTitle: Max Sum of Rec...</td>\n",
       "      <td>class Solution:\\n    def maxSumSubmatrix(self,...</td>\n",
       "      <td>Here is the solution to the problem, \\n\\nIn th...</td>\n",
       "      <td>\\nfrom typing import List\\nimport bisect\\n\\ncl...</td>\n",
       "      <td>1</td>\n",
       "      <td>3.0</td>\n",
       "      <td>363.0</td>\n",
       "      <td>280</td>\n",
       "    </tr>\n",
       "    <tr>\n",
       "      <th>4</th>\n",
       "      <td>\\nLeetCode Problem #458\\nTitle: Poor Pigs\\nDes...</td>\n",
       "      <td>class Solution:\\n    def poorPigs(self, bucket...</td>\n",
       "      <td>The problem can be solved by using the concept...</td>\n",
       "      <td>\\nimport math\\nclass Solution:\\n    def poorPi...</td>\n",
       "      <td>1</td>\n",
       "      <td>3.0</td>\n",
       "      <td>458.0</td>\n",
       "      <td>360</td>\n",
       "    </tr>\n",
       "    <tr>\n",
       "      <th>...</th>\n",
       "      <td>...</td>\n",
       "      <td>...</td>\n",
       "      <td>...</td>\n",
       "      <td>...</td>\n",
       "      <td>...</td>\n",
       "      <td>...</td>\n",
       "      <td>...</td>\n",
       "      <td>...</td>\n",
       "    </tr>\n",
       "    <tr>\n",
       "      <th>1156</th>\n",
       "      <td>\\nLeetCode Problem #2809\\nTitle: Minimum Time ...</td>\n",
       "      <td>class Solution:\\n    def minimumTime(self, num...</td>\n",
       "      <td>```python\\nclass Solution:\\n    def minimumTim...</td>\n",
       "      <td>\\nclass Solution:\\n    def minimumTime(self, n...</td>\n",
       "      <td>1</td>\n",
       "      <td>3.0</td>\n",
       "      <td>2809.0</td>\n",
       "      <td>2126</td>\n",
       "    </tr>\n",
       "    <tr>\n",
       "      <th>1157</th>\n",
       "      <td>\\nLeetCode Problem #2811\\nTitle: Check if it i...</td>\n",
       "      <td>class Solution:\\n    def canSplitArray(self, n...</td>\n",
       "      <td>```python\\nclass Solution:\\n    def canSplitAr...</td>\n",
       "      <td>\\nclass Solution:\\n    def canSplitArray(self,...</td>\n",
       "      <td>1</td>\n",
       "      <td>2.0</td>\n",
       "      <td>2811.0</td>\n",
       "      <td>2128</td>\n",
       "    </tr>\n",
       "    <tr>\n",
       "      <th>1158</th>\n",
       "      <td>\\nLeetCode Problem #2812\\nTitle: Find the Safe...</td>\n",
       "      <td>class Solution:\\n    def maximumSafenessFactor...</td>\n",
       "      <td>```python\\nfrom queue import PriorityQueue\\nfr...</td>\n",
       "      <td>\\nfrom queue import PriorityQueue\\nfrom typing...</td>\n",
       "      <td>1</td>\n",
       "      <td>2.0</td>\n",
       "      <td>2812.0</td>\n",
       "      <td>2129</td>\n",
       "    </tr>\n",
       "    <tr>\n",
       "      <th>1159</th>\n",
       "      <td>\\nLeetCode Problem #2813\\nTitle: Maximum Elega...</td>\n",
       "      <td>class Solution:\\n    def findMaximumElegance(s...</td>\n",
       "      <td>Firstly, you should sort the items array in de...</td>\n",
       "      <td>\\nclass Solution:\\n    def findMaximumElegance...</td>\n",
       "      <td>1</td>\n",
       "      <td>3.0</td>\n",
       "      <td>2813.0</td>\n",
       "      <td>2130</td>\n",
       "    </tr>\n",
       "    <tr>\n",
       "      <th>1160</th>\n",
       "      <td>\\nLeetCode Problem #2818\\nTitle: Apply Operati...</td>\n",
       "      <td>class Solution:\\n    def maximumScore(self, nu...</td>\n",
       "      <td>```python\\nclass Solution:\\n  MOD = 10**9+7\\n ...</td>\n",
       "      <td>\\nclass Solution:\\n  MOD = 10**9+7\\n  MAX_VAL ...</td>\n",
       "      <td>1</td>\n",
       "      <td>3.0</td>\n",
       "      <td>2818.0</td>\n",
       "      <td>2134</td>\n",
       "    </tr>\n",
       "  </tbody>\n",
       "</table>\n",
       "<p>1161 rows × 8 columns</p>\n",
       "</div>"
      ],
      "text/plain": [
       "                                             task_input  \\\n",
       "0     \\nLeetCode Problem #41\\nTitle: First Missing P...   \n",
       "1     \\nLeetCode Problem #81\\nTitle: Search in Rotat...   \n",
       "2     \\nLeetCode Problem #301\\nTitle: Remove Invalid...   \n",
       "3     \\nLeetCode Problem #363\\nTitle: Max Sum of Rec...   \n",
       "4     \\nLeetCode Problem #458\\nTitle: Poor Pigs\\nDes...   \n",
       "...                                                 ...   \n",
       "1156  \\nLeetCode Problem #2809\\nTitle: Minimum Time ...   \n",
       "1157  \\nLeetCode Problem #2811\\nTitle: Check if it i...   \n",
       "1158  \\nLeetCode Problem #2812\\nTitle: Find the Safe...   \n",
       "1159  \\nLeetCode Problem #2813\\nTitle: Maximum Elega...   \n",
       "1160  \\nLeetCode Problem #2818\\nTitle: Apply Operati...   \n",
       "\n",
       "                                           code_snippet  \\\n",
       "0     class Solution:\\n    def firstMissingPositive(...   \n",
       "1     class Solution:\\n    def search(self, nums: Li...   \n",
       "2     class Solution:\\n    def removeInvalidParenthe...   \n",
       "3     class Solution:\\n    def maxSumSubmatrix(self,...   \n",
       "4     class Solution:\\n    def poorPigs(self, bucket...   \n",
       "...                                                 ...   \n",
       "1156  class Solution:\\n    def minimumTime(self, num...   \n",
       "1157  class Solution:\\n    def canSplitArray(self, n...   \n",
       "1158  class Solution:\\n    def maximumSafenessFactor...   \n",
       "1159  class Solution:\\n    def findMaximumElegance(s...   \n",
       "1160  class Solution:\\n    def maximumScore(self, nu...   \n",
       "\n",
       "                                           raw_response  \\\n",
       "0     ```python\\nfrom typing import List\\n\\nclass So...   \n",
       "1     ```python\\nclass Solution:\\n    def search(sel...   \n",
       "2     ```python\\nfrom typing import List\\n\\nclass So...   \n",
       "3     Here is the solution to the problem, \\n\\nIn th...   \n",
       "4     The problem can be solved by using the concept...   \n",
       "...                                                 ...   \n",
       "1156  ```python\\nclass Solution:\\n    def minimumTim...   \n",
       "1157  ```python\\nclass Solution:\\n    def canSplitAr...   \n",
       "1158  ```python\\nfrom queue import PriorityQueue\\nfr...   \n",
       "1159  Firstly, you should sort the items array in de...   \n",
       "1160  ```python\\nclass Solution:\\n  MOD = 10**9+7\\n ...   \n",
       "\n",
       "                                       cleaned_response  n_pass  difficulty  \\\n",
       "0     \\nfrom typing import List\\n\\nclass Solution:\\n...       1         3.0   \n",
       "1     \\nclass Solution:\\n    def search(self, nums: ...       1         2.0   \n",
       "2     \\nfrom typing import List\\n\\nclass Solution:\\n...       1         3.0   \n",
       "3     \\nfrom typing import List\\nimport bisect\\n\\ncl...       1         3.0   \n",
       "4     \\nimport math\\nclass Solution:\\n    def poorPi...       1         3.0   \n",
       "...                                                 ...     ...         ...   \n",
       "1156  \\nclass Solution:\\n    def minimumTime(self, n...       1         3.0   \n",
       "1157  \\nclass Solution:\\n    def canSplitArray(self,...       1         2.0   \n",
       "1158  \\nfrom queue import PriorityQueue\\nfrom typing...       1         2.0   \n",
       "1159  \\nclass Solution:\\n    def findMaximumElegance...       1         3.0   \n",
       "1160  \\nclass Solution:\\n  MOD = 10**9+7\\n  MAX_VAL ...       1         3.0   \n",
       "\n",
       "      frontend_question_id   loc  \n",
       "0                     41.0    40  \n",
       "1                     81.0    80  \n",
       "2                    301.0   240  \n",
       "3                    363.0   280  \n",
       "4                    458.0   360  \n",
       "...                    ...   ...  \n",
       "1156                2809.0  2126  \n",
       "1157                2811.0  2128  \n",
       "1158                2812.0  2129  \n",
       "1159                2813.0  2130  \n",
       "1160                2818.0  2134  \n",
       "\n",
       "[1161 rows x 8 columns]"
      ]
     },
     "execution_count": 79,
     "metadata": {},
     "output_type": "execute_result"
    }
   ],
   "source": [
    "fname_gpt4_0613_raw = \"leetcode_generation__provider_eq_openai__vanilla_zero_shot__filter_ez_eq_0.25_filter_med_eq_0.5_filter_hrd_eq_1.0__model_eq_gpt_4_0613__temperature_eq_0.7__n_pass_1.jsonl\"\n",
    "fname_gpt4_0613_raw_df = load_df(os.path.join(\"..\", \"results\", fname_gpt4_0613_raw))\n",
    "fname_gpt4_0613_raw_df"
   ]
  },
  {
   "cell_type": "code",
   "execution_count": 80,
   "id": "bc33dd38",
   "metadata": {},
   "outputs": [
    {
     "data": {
      "text/html": [
       "<div>\n",
       "<style scoped>\n",
       "    .dataframe tbody tr th:only-of-type {\n",
       "        vertical-align: middle;\n",
       "    }\n",
       "\n",
       "    .dataframe tbody tr th {\n",
       "        vertical-align: top;\n",
       "    }\n",
       "\n",
       "    .dataframe thead th {\n",
       "        text-align: right;\n",
       "    }\n",
       "</style>\n",
       "<table border=\"1\" class=\"dataframe\">\n",
       "  <thead>\n",
       "    <tr style=\"text-align: right;\">\n",
       "      <th></th>\n",
       "      <th>frontend_question_id</th>\n",
       "      <th>question_id</th>\n",
       "      <th>question_slug</th>\n",
       "      <th>difficulty</th>\n",
       "      <th>status</th>\n",
       "      <th>reward</th>\n",
       "      <th>done</th>\n",
       "    </tr>\n",
       "  </thead>\n",
       "  <tbody>\n",
       "    <tr>\n",
       "      <th>0</th>\n",
       "      <td>41.0</td>\n",
       "      <td>41.0</td>\n",
       "      <td>first-missing-positive</td>\n",
       "      <td>3.0</td>\n",
       "      <td>Accepted</td>\n",
       "      <td>True</td>\n",
       "      <td>True</td>\n",
       "    </tr>\n",
       "    <tr>\n",
       "      <th>1</th>\n",
       "      <td>81.0</td>\n",
       "      <td>81.0</td>\n",
       "      <td>search-in-rotated-sorted-array-ii</td>\n",
       "      <td>2.0</td>\n",
       "      <td>Accepted</td>\n",
       "      <td>True</td>\n",
       "      <td>True</td>\n",
       "    </tr>\n",
       "    <tr>\n",
       "      <th>2</th>\n",
       "      <td>301.0</td>\n",
       "      <td>301.0</td>\n",
       "      <td>remove-invalid-parentheses</td>\n",
       "      <td>3.0</td>\n",
       "      <td>Accepted</td>\n",
       "      <td>True</td>\n",
       "      <td>True</td>\n",
       "    </tr>\n",
       "    <tr>\n",
       "      <th>3</th>\n",
       "      <td>363.0</td>\n",
       "      <td>363.0</td>\n",
       "      <td>max-sum-of-rectangle-no-larger-than-k</td>\n",
       "      <td>3.0</td>\n",
       "      <td>Accepted</td>\n",
       "      <td>True</td>\n",
       "      <td>True</td>\n",
       "    </tr>\n",
       "    <tr>\n",
       "      <th>4</th>\n",
       "      <td>458.0</td>\n",
       "      <td>458.0</td>\n",
       "      <td>poor-pigs</td>\n",
       "      <td>3.0</td>\n",
       "      <td>Accepted</td>\n",
       "      <td>True</td>\n",
       "      <td>True</td>\n",
       "    </tr>\n",
       "    <tr>\n",
       "      <th>...</th>\n",
       "      <td>...</td>\n",
       "      <td>...</td>\n",
       "      <td>...</td>\n",
       "      <td>...</td>\n",
       "      <td>...</td>\n",
       "      <td>...</td>\n",
       "      <td>...</td>\n",
       "    </tr>\n",
       "    <tr>\n",
       "      <th>695</th>\n",
       "      <td>1614.0</td>\n",
       "      <td>1737.0</td>\n",
       "      <td>maximum-nesting-depth-of-the-parentheses</td>\n",
       "      <td>1.0</td>\n",
       "      <td>Accepted</td>\n",
       "      <td>True</td>\n",
       "      <td>True</td>\n",
       "    </tr>\n",
       "    <tr>\n",
       "      <th>696</th>\n",
       "      <td>1615.0</td>\n",
       "      <td>1738.0</td>\n",
       "      <td>maximal-network-rank</td>\n",
       "      <td>2.0</td>\n",
       "      <td>Accepted</td>\n",
       "      <td>True</td>\n",
       "      <td>True</td>\n",
       "    </tr>\n",
       "    <tr>\n",
       "      <th>697</th>\n",
       "      <td>1616.0</td>\n",
       "      <td>1739.0</td>\n",
       "      <td>split-two-strings-to-make-palindrome</td>\n",
       "      <td>2.0</td>\n",
       "      <td>Accepted</td>\n",
       "      <td>True</td>\n",
       "      <td>True</td>\n",
       "    </tr>\n",
       "    <tr>\n",
       "      <th>698</th>\n",
       "      <td>1617.0</td>\n",
       "      <td>1740.0</td>\n",
       "      <td>count-subtrees-with-max-distance-between-cities</td>\n",
       "      <td>3.0</td>\n",
       "      <td>Wrong Answer</td>\n",
       "      <td>False</td>\n",
       "      <td>False</td>\n",
       "    </tr>\n",
       "    <tr>\n",
       "      <th>699</th>\n",
       "      <td>1619.0</td>\n",
       "      <td>1210.0</td>\n",
       "      <td>mean-of-array-after-removing-some-elements</td>\n",
       "      <td>1.0</td>\n",
       "      <td>Accepted</td>\n",
       "      <td>True</td>\n",
       "      <td>True</td>\n",
       "    </tr>\n",
       "  </tbody>\n",
       "</table>\n",
       "<p>700 rows × 7 columns</p>\n",
       "</div>"
      ],
      "text/plain": [
       "     frontend_question_id  question_id  \\\n",
       "0                    41.0         41.0   \n",
       "1                    81.0         81.0   \n",
       "2                   301.0        301.0   \n",
       "3                   363.0        363.0   \n",
       "4                   458.0        458.0   \n",
       "..                    ...          ...   \n",
       "695                1614.0       1737.0   \n",
       "696                1615.0       1738.0   \n",
       "697                1616.0       1739.0   \n",
       "698                1617.0       1740.0   \n",
       "699                1619.0       1210.0   \n",
       "\n",
       "                                       question_slug  difficulty  \\\n",
       "0                             first-missing-positive         3.0   \n",
       "1                  search-in-rotated-sorted-array-ii         2.0   \n",
       "2                         remove-invalid-parentheses         3.0   \n",
       "3              max-sum-of-rectangle-no-larger-than-k         3.0   \n",
       "4                                          poor-pigs         3.0   \n",
       "..                                               ...         ...   \n",
       "695         maximum-nesting-depth-of-the-parentheses         1.0   \n",
       "696                             maximal-network-rank         2.0   \n",
       "697             split-two-strings-to-make-palindrome         2.0   \n",
       "698  count-subtrees-with-max-distance-between-cities         3.0   \n",
       "699       mean-of-array-after-removing-some-elements         1.0   \n",
       "\n",
       "           status  reward   done  \n",
       "0        Accepted    True   True  \n",
       "1        Accepted    True   True  \n",
       "2        Accepted    True   True  \n",
       "3        Accepted    True   True  \n",
       "4        Accepted    True   True  \n",
       "..            ...     ...    ...  \n",
       "695      Accepted    True   True  \n",
       "696      Accepted    True   True  \n",
       "697      Accepted    True   True  \n",
       "698  Wrong Answer   False  False  \n",
       "699      Accepted    True   True  \n",
       "\n",
       "[700 rows x 7 columns]"
      ]
     },
     "execution_count": 80,
     "metadata": {},
     "output_type": "execute_result"
    }
   ],
   "source": [
    "fname_gpt4_0613 = fname_gpt4_0613_raw.replace(\"generation\", \"evaluation\")\n",
    "fname_gpt4_0613_df = load_df(os.path.join(\"..\", \"results\", fname_gpt4_0613))\n",
    "fname_gpt4_0613_df\n"
   ]
  },
  {
   "cell_type": "code",
   "execution_count": 81,
   "id": "3ed0976a",
   "metadata": {},
   "outputs": [
    {
     "data": {
      "text/html": [
       "<div>\n",
       "<style scoped>\n",
       "    .dataframe tbody tr th:only-of-type {\n",
       "        vertical-align: middle;\n",
       "    }\n",
       "\n",
       "    .dataframe tbody tr th {\n",
       "        vertical-align: top;\n",
       "    }\n",
       "\n",
       "    .dataframe thead th {\n",
       "        text-align: right;\n",
       "    }\n",
       "</style>\n",
       "<table border=\"1\" class=\"dataframe\">\n",
       "  <thead>\n",
       "    <tr style=\"text-align: right;\">\n",
       "      <th></th>\n",
       "      <th>task_input</th>\n",
       "      <th>code_snippet</th>\n",
       "      <th>raw_response</th>\n",
       "      <th>cleaned_response</th>\n",
       "      <th>n_pass</th>\n",
       "      <th>difficulty</th>\n",
       "      <th>frontend_question_id</th>\n",
       "      <th>loc</th>\n",
       "    </tr>\n",
       "  </thead>\n",
       "  <tbody>\n",
       "    <tr>\n",
       "      <th>0</th>\n",
       "      <td>\\nLeetCode Problem #41\\nTitle: First Missing P...</td>\n",
       "      <td>class Solution:\\n    def firstMissingPositive(...</td>\n",
       "      <td>```python\\nfrom typing import List\\n\\nclass So...</td>\n",
       "      <td>\\nfrom typing import List\\n\\nclass Solution:\\n...</td>\n",
       "      <td>1</td>\n",
       "      <td>3.0</td>\n",
       "      <td>41.0</td>\n",
       "      <td>40</td>\n",
       "    </tr>\n",
       "    <tr>\n",
       "      <th>1</th>\n",
       "      <td>\\nLeetCode Problem #167\\nTitle: Two Sum II - I...</td>\n",
       "      <td>class Solution:\\n    def twoSum(self, numbers:...</td>\n",
       "      <td>```python\\nfrom typing import List\\n\\nclass So...</td>\n",
       "      <td>\\nfrom typing import List\\n\\nclass Solution:\\n...</td>\n",
       "      <td>1</td>\n",
       "      <td>2.0</td>\n",
       "      <td>167.0</td>\n",
       "      <td>160</td>\n",
       "    </tr>\n",
       "    <tr>\n",
       "      <th>2</th>\n",
       "      <td>\\nLeetCode Problem #301\\nTitle: Remove Invalid...</td>\n",
       "      <td>class Solution:\\n    def removeInvalidParenthe...</td>\n",
       "      <td>```python\\nfrom typing import List\\n\\nclass So...</td>\n",
       "      <td>\\nfrom typing import List\\n\\nclass Solution:\\n...</td>\n",
       "      <td>1</td>\n",
       "      <td>3.0</td>\n",
       "      <td>301.0</td>\n",
       "      <td>240</td>\n",
       "    </tr>\n",
       "    <tr>\n",
       "      <th>3</th>\n",
       "      <td>\\nLeetCode Problem #363\\nTitle: Max Sum of Rec...</td>\n",
       "      <td>class Solution:\\n    def maxSumSubmatrix(self,...</td>\n",
       "      <td>```python\\nfrom typing import List\\n\\nclass So...</td>\n",
       "      <td>\\nfrom typing import List\\n\\nclass Solution:\\n...</td>\n",
       "      <td>1</td>\n",
       "      <td>3.0</td>\n",
       "      <td>363.0</td>\n",
       "      <td>280</td>\n",
       "    </tr>\n",
       "    <tr>\n",
       "      <th>4</th>\n",
       "      <td>\\nLeetCode Problem #458\\nTitle: Poor Pigs\\nDes...</td>\n",
       "      <td>class Solution:\\n    def poorPigs(self, bucket...</td>\n",
       "      <td>```python\\nclass Solution:\\n    def poorPigs(s...</td>\n",
       "      <td>\\nclass Solution:\\n    def poorPigs(self, buck...</td>\n",
       "      <td>1</td>\n",
       "      <td>3.0</td>\n",
       "      <td>458.0</td>\n",
       "      <td>360</td>\n",
       "    </tr>\n",
       "    <tr>\n",
       "      <th>...</th>\n",
       "      <td>...</td>\n",
       "      <td>...</td>\n",
       "      <td>...</td>\n",
       "      <td>...</td>\n",
       "      <td>...</td>\n",
       "      <td>...</td>\n",
       "      <td>...</td>\n",
       "      <td>...</td>\n",
       "    </tr>\n",
       "    <tr>\n",
       "      <th>1155</th>\n",
       "      <td>LeetCode Problem #2809\\nTitle: Minimum Time to...</td>\n",
       "      <td>class Solution:\\n    def minimumTime(self, num...</td>\n",
       "      <td>class Solution:\\n    def minimumTime(self, num...</td>\n",
       "      <td>NaN</td>\n",
       "      <td>1</td>\n",
       "      <td>3.0</td>\n",
       "      <td>2809.0</td>\n",
       "      <td>2126</td>\n",
       "    </tr>\n",
       "    <tr>\n",
       "      <th>1156</th>\n",
       "      <td>LeetCode Problem #2811\\nTitle: Check if it is ...</td>\n",
       "      <td>class Solution:\\n    def canSplitArray(self, n...</td>\n",
       "      <td>```python\\nfrom typing import List\\n\\nclass So...</td>\n",
       "      <td>NaN</td>\n",
       "      <td>1</td>\n",
       "      <td>2.0</td>\n",
       "      <td>2811.0</td>\n",
       "      <td>2128</td>\n",
       "    </tr>\n",
       "    <tr>\n",
       "      <th>1157</th>\n",
       "      <td>LeetCode Problem #2812\\nTitle: Find the Safest...</td>\n",
       "      <td>class Solution:\\n    def maximumSafenessFactor...</td>\n",
       "      <td>```python\\nfrom typing import List\\n\\nclass So...</td>\n",
       "      <td>NaN</td>\n",
       "      <td>1</td>\n",
       "      <td>2.0</td>\n",
       "      <td>2812.0</td>\n",
       "      <td>2129</td>\n",
       "    </tr>\n",
       "    <tr>\n",
       "      <th>1158</th>\n",
       "      <td>LeetCode Problem #2813\\nTitle: Maximum Eleganc...</td>\n",
       "      <td>class Solution:\\n    def findMaximumElegance(s...</td>\n",
       "      <td>```python\\nfrom typing import List\\n\\nclass So...</td>\n",
       "      <td>NaN</td>\n",
       "      <td>1</td>\n",
       "      <td>3.0</td>\n",
       "      <td>2813.0</td>\n",
       "      <td>2130</td>\n",
       "    </tr>\n",
       "    <tr>\n",
       "      <th>1159</th>\n",
       "      <td>LeetCode Problem #2818\\nTitle: Apply Operation...</td>\n",
       "      <td>class Solution:\\n    def maximumScore(self, nu...</td>\n",
       "      <td>```python\\nclass Solution:\\n    def maximumSco...</td>\n",
       "      <td>NaN</td>\n",
       "      <td>1</td>\n",
       "      <td>3.0</td>\n",
       "      <td>2818.0</td>\n",
       "      <td>2134</td>\n",
       "    </tr>\n",
       "  </tbody>\n",
       "</table>\n",
       "<p>1160 rows × 8 columns</p>\n",
       "</div>"
      ],
      "text/plain": [
       "                                             task_input  \\\n",
       "0     \\nLeetCode Problem #41\\nTitle: First Missing P...   \n",
       "1     \\nLeetCode Problem #167\\nTitle: Two Sum II - I...   \n",
       "2     \\nLeetCode Problem #301\\nTitle: Remove Invalid...   \n",
       "3     \\nLeetCode Problem #363\\nTitle: Max Sum of Rec...   \n",
       "4     \\nLeetCode Problem #458\\nTitle: Poor Pigs\\nDes...   \n",
       "...                                                 ...   \n",
       "1155  LeetCode Problem #2809\\nTitle: Minimum Time to...   \n",
       "1156  LeetCode Problem #2811\\nTitle: Check if it is ...   \n",
       "1157  LeetCode Problem #2812\\nTitle: Find the Safest...   \n",
       "1158  LeetCode Problem #2813\\nTitle: Maximum Eleganc...   \n",
       "1159  LeetCode Problem #2818\\nTitle: Apply Operation...   \n",
       "\n",
       "                                           code_snippet  \\\n",
       "0     class Solution:\\n    def firstMissingPositive(...   \n",
       "1     class Solution:\\n    def twoSum(self, numbers:...   \n",
       "2     class Solution:\\n    def removeInvalidParenthe...   \n",
       "3     class Solution:\\n    def maxSumSubmatrix(self,...   \n",
       "4     class Solution:\\n    def poorPigs(self, bucket...   \n",
       "...                                                 ...   \n",
       "1155  class Solution:\\n    def minimumTime(self, num...   \n",
       "1156  class Solution:\\n    def canSplitArray(self, n...   \n",
       "1157  class Solution:\\n    def maximumSafenessFactor...   \n",
       "1158  class Solution:\\n    def findMaximumElegance(s...   \n",
       "1159  class Solution:\\n    def maximumScore(self, nu...   \n",
       "\n",
       "                                           raw_response  \\\n",
       "0     ```python\\nfrom typing import List\\n\\nclass So...   \n",
       "1     ```python\\nfrom typing import List\\n\\nclass So...   \n",
       "2     ```python\\nfrom typing import List\\n\\nclass So...   \n",
       "3     ```python\\nfrom typing import List\\n\\nclass So...   \n",
       "4     ```python\\nclass Solution:\\n    def poorPigs(s...   \n",
       "...                                                 ...   \n",
       "1155  class Solution:\\n    def minimumTime(self, num...   \n",
       "1156  ```python\\nfrom typing import List\\n\\nclass So...   \n",
       "1157  ```python\\nfrom typing import List\\n\\nclass So...   \n",
       "1158  ```python\\nfrom typing import List\\n\\nclass So...   \n",
       "1159  ```python\\nclass Solution:\\n    def maximumSco...   \n",
       "\n",
       "                                       cleaned_response  n_pass  difficulty  \\\n",
       "0     \\nfrom typing import List\\n\\nclass Solution:\\n...       1         3.0   \n",
       "1     \\nfrom typing import List\\n\\nclass Solution:\\n...       1         2.0   \n",
       "2     \\nfrom typing import List\\n\\nclass Solution:\\n...       1         3.0   \n",
       "3     \\nfrom typing import List\\n\\nclass Solution:\\n...       1         3.0   \n",
       "4     \\nclass Solution:\\n    def poorPigs(self, buck...       1         3.0   \n",
       "...                                                 ...     ...         ...   \n",
       "1155                                                NaN       1         3.0   \n",
       "1156                                                NaN       1         2.0   \n",
       "1157                                                NaN       1         2.0   \n",
       "1158                                                NaN       1         3.0   \n",
       "1159                                                NaN       1         3.0   \n",
       "\n",
       "      frontend_question_id   loc  \n",
       "0                     41.0    40  \n",
       "1                    167.0   160  \n",
       "2                    301.0   240  \n",
       "3                    363.0   280  \n",
       "4                    458.0   360  \n",
       "...                    ...   ...  \n",
       "1155                2809.0  2126  \n",
       "1156                2811.0  2128  \n",
       "1157                2812.0  2129  \n",
       "1158                2813.0  2130  \n",
       "1159                2818.0  2134  \n",
       "\n",
       "[1160 rows x 8 columns]"
      ]
     },
     "execution_count": 81,
     "metadata": {},
     "output_type": "execute_result"
    }
   ],
   "source": [
    "fname_gpt3p5_0613_raw_df"
   ]
  },
  {
   "cell_type": "code",
   "execution_count": 82,
   "id": "47c8dfd1",
   "metadata": {
    "scrolled": true
   },
   "outputs": [
    {
     "name": "stdout",
     "output_type": "stream",
     "text": [
      "                                          task_input  \\\n",
      "2  \\nLeetCode Problem #301\\nTitle: Remove Invalid...   \n",
      "\n",
      "                                        code_snippet  \\\n",
      "2  class Solution:\\n    def removeInvalidParenthe...   \n",
      "\n",
      "                                        raw_response  \\\n",
      "2  ```python\\nfrom typing import List\\n\\nclass So...   \n",
      "\n",
      "                                    cleaned_response  n_pass  difficulty  \\\n",
      "2  \\nfrom typing import List\\n\\nclass Solution:\\n...       1         3.0   \n",
      "\n",
      "   frontend_question_id  loc  \n",
      "2                 301.0  240  \n"
     ]
    }
   ],
   "source": [
    "print(fname_gpt3p5_0613_raw_df[fname_gpt3p5_0613_raw_df['frontend_question_id']==301.0])"
   ]
  },
  {
   "cell_type": "code",
   "execution_count": 83,
   "id": "ea1fb901",
   "metadata": {
    "scrolled": true
   },
   "outputs": [
    {
     "name": "stdout",
     "output_type": "stream",
     "text": [
      "```python\n",
      "class Solution:\n",
      "    def fractionToDecimal(self, numerator: int, denominator: int) -> str:\n",
      "        if numerator == 0: # In case the numerator is 0, return \"0\"\n",
      "            return \"0\"\n",
      "\n",
      "        res = []\n",
      "        # If the numerator and the denominator have different signs, the result is negative\n",
      "        if (numerator > 0) ^  (denominator > 0):\n",
      "            res.append(\"-\")\n",
      "\n",
      "        numerator, denominator = abs(numerator), abs(denominator)\n",
      "        # The integer part\n",
      "        res.append(str(numerator // denominator))\n",
      "        numerator %= denominator\n",
      "        if numerator == 0: # In case there's no fractional part, return the integer part\n",
      "            return \"\".join(res)\n",
      "\n",
      "        res.append(\".\") # Otherwise, add the decimal point for the fractional part\n",
      "        # This dictionary maps from the remainder to its corresponding index in res of this remainder.\n",
      "        # We will use this map to detect the start of the repeated cycle\n",
      "        map = {numerator: len(res)}\n",
      "        while numerator != 0:\n",
      "            # Multiply the remainder by 10, then perform the division, then take the remainder\n",
      "            numerator *= 10\n",
      "            res.append(str(numerator // denominator))\n",
      "            numerator %= denominator\n",
      "            if numerator in map: # If the remainder is already in the map, we found a repeating cycle\n",
      "                res.insert(map[numerator], \"(\") # So insert \"(\" at the start index of the cycle\n",
      "                res.append(\")\") # And add \")\" at the end of the result\n",
      "                break\n",
      "            else:\n",
      "                # Otherwise, just add the index into the map\n",
      "                map[numerator] = len(res)\n",
      "        return \"\".join(res)\n",
      "```\n"
     ]
    }
   ],
   "source": [
    "# fname_gpt4_0613_raw_df.columns\n",
    "print(fname_gpt4_0613_raw_df['raw_response'].iloc[100])"
   ]
  },
  {
   "cell_type": "code",
   "execution_count": 84,
   "id": "d5df9c83",
   "metadata": {},
   "outputs": [],
   "source": [
    "fname_gpt3p5_0613_df['reward_val'] = [float(reward) for reward in fname_gpt3p5_0613_df['reward']]\n",
    "fname_gpt4_0613_df['reward_val'] = [float(reward) for reward in fname_gpt4_0613_df['reward']]"
   ]
  },
  {
   "cell_type": "code",
   "execution_count": 87,
   "id": "26d6c9f8",
   "metadata": {},
   "outputs": [
    {
     "data": {
      "text/html": [
       "<div>\n",
       "<style scoped>\n",
       "    .dataframe tbody tr th:only-of-type {\n",
       "        vertical-align: middle;\n",
       "    }\n",
       "\n",
       "    .dataframe tbody tr th {\n",
       "        vertical-align: top;\n",
       "    }\n",
       "\n",
       "    .dataframe thead th {\n",
       "        text-align: right;\n",
       "    }\n",
       "</style>\n",
       "<table border=\"1\" class=\"dataframe\">\n",
       "  <thead>\n",
       "    <tr style=\"text-align: right;\">\n",
       "      <th></th>\n",
       "      <th>frontend_question_id</th>\n",
       "      <th>question_id</th>\n",
       "      <th>difficulty</th>\n",
       "      <th>reward_val</th>\n",
       "    </tr>\n",
       "  </thead>\n",
       "  <tbody>\n",
       "    <tr>\n",
       "      <th>count</th>\n",
       "      <td>400.000000</td>\n",
       "      <td>400.000000</td>\n",
       "      <td>400.000000</td>\n",
       "      <td>400.000000</td>\n",
       "    </tr>\n",
       "    <tr>\n",
       "      <th>mean</th>\n",
       "      <td>681.712500</td>\n",
       "      <td>708.642500</td>\n",
       "      <td>2.252500</td>\n",
       "      <td>0.727500</td>\n",
       "    </tr>\n",
       "    <tr>\n",
       "      <th>std</th>\n",
       "      <td>266.223152</td>\n",
       "      <td>287.612922</td>\n",
       "      <td>0.632252</td>\n",
       "      <td>0.445803</td>\n",
       "    </tr>\n",
       "    <tr>\n",
       "      <th>min</th>\n",
       "      <td>166.000000</td>\n",
       "      <td>166.000000</td>\n",
       "      <td>1.000000</td>\n",
       "      <td>0.000000</td>\n",
       "    </tr>\n",
       "    <tr>\n",
       "      <th>25%</th>\n",
       "      <td>448.500000</td>\n",
       "      <td>452.500000</td>\n",
       "      <td>2.000000</td>\n",
       "      <td>0.000000</td>\n",
       "    </tr>\n",
       "    <tr>\n",
       "      <th>50%</th>\n",
       "      <td>719.500000</td>\n",
       "      <td>740.000000</td>\n",
       "      <td>2.000000</td>\n",
       "      <td>1.000000</td>\n",
       "    </tr>\n",
       "    <tr>\n",
       "      <th>75%</th>\n",
       "      <td>902.250000</td>\n",
       "      <td>939.750000</td>\n",
       "      <td>3.000000</td>\n",
       "      <td>1.000000</td>\n",
       "    </tr>\n",
       "    <tr>\n",
       "      <th>max</th>\n",
       "      <td>1139.000000</td>\n",
       "      <td>1239.000000</td>\n",
       "      <td>3.000000</td>\n",
       "      <td>1.000000</td>\n",
       "    </tr>\n",
       "  </tbody>\n",
       "</table>\n",
       "</div>"
      ],
      "text/plain": [
       "       frontend_question_id  question_id  difficulty  reward_val\n",
       "count            400.000000   400.000000  400.000000  400.000000\n",
       "mean             681.712500   708.642500    2.252500    0.727500\n",
       "std              266.223152   287.612922    0.632252    0.445803\n",
       "min              166.000000   166.000000    1.000000    0.000000\n",
       "25%              448.500000   452.500000    2.000000    0.000000\n",
       "50%              719.500000   740.000000    2.000000    1.000000\n",
       "75%              902.250000   939.750000    3.000000    1.000000\n",
       "max             1139.000000  1239.000000    3.000000    1.000000"
      ]
     },
     "execution_count": 87,
     "metadata": {},
     "output_type": "execute_result"
    }
   ],
   "source": [
    "# fname_gpt3p5_0613_df.iloc[100:500][fname_gpt3p5_0613_df.iloc[100:500].difficulty==3].describe()\n",
    "fname_gpt3p5_0613_df.iloc[100:500].describe()#[fname_gpt3p5_0613_df.iloc[100:500].difficulty==3].describe()"
   ]
  },
  {
   "cell_type": "code",
   "execution_count": 88,
   "id": "0de9a6b1",
   "metadata": {},
   "outputs": [
    {
     "data": {
      "text/html": [
       "<div>\n",
       "<style scoped>\n",
       "    .dataframe tbody tr th:only-of-type {\n",
       "        vertical-align: middle;\n",
       "    }\n",
       "\n",
       "    .dataframe tbody tr th {\n",
       "        vertical-align: top;\n",
       "    }\n",
       "\n",
       "    .dataframe thead th {\n",
       "        text-align: right;\n",
       "    }\n",
       "</style>\n",
       "<table border=\"1\" class=\"dataframe\">\n",
       "  <thead>\n",
       "    <tr style=\"text-align: right;\">\n",
       "      <th></th>\n",
       "      <th>frontend_question_id</th>\n",
       "      <th>question_id</th>\n",
       "      <th>difficulty</th>\n",
       "      <th>reward_val</th>\n",
       "    </tr>\n",
       "  </thead>\n",
       "  <tbody>\n",
       "    <tr>\n",
       "      <th>count</th>\n",
       "      <td>400.000000</td>\n",
       "      <td>400.000000</td>\n",
       "      <td>400.000000</td>\n",
       "      <td>400.000000</td>\n",
       "    </tr>\n",
       "    <tr>\n",
       "      <th>mean</th>\n",
       "      <td>680.360000</td>\n",
       "      <td>706.897500</td>\n",
       "      <td>2.257500</td>\n",
       "      <td>0.727500</td>\n",
       "    </tr>\n",
       "    <tr>\n",
       "      <th>std</th>\n",
       "      <td>264.711117</td>\n",
       "      <td>285.608785</td>\n",
       "      <td>0.634192</td>\n",
       "      <td>0.445803</td>\n",
       "    </tr>\n",
       "    <tr>\n",
       "      <th>min</th>\n",
       "      <td>166.000000</td>\n",
       "      <td>166.000000</td>\n",
       "      <td>1.000000</td>\n",
       "      <td>0.000000</td>\n",
       "    </tr>\n",
       "    <tr>\n",
       "      <th>25%</th>\n",
       "      <td>448.500000</td>\n",
       "      <td>452.500000</td>\n",
       "      <td>2.000000</td>\n",
       "      <td>0.000000</td>\n",
       "    </tr>\n",
       "    <tr>\n",
       "      <th>50%</th>\n",
       "      <td>719.500000</td>\n",
       "      <td>740.000000</td>\n",
       "      <td>2.000000</td>\n",
       "      <td>1.000000</td>\n",
       "    </tr>\n",
       "    <tr>\n",
       "      <th>75%</th>\n",
       "      <td>900.500000</td>\n",
       "      <td>938.250000</td>\n",
       "      <td>3.000000</td>\n",
       "      <td>1.000000</td>\n",
       "    </tr>\n",
       "    <tr>\n",
       "      <th>max</th>\n",
       "      <td>1129.000000</td>\n",
       "      <td>1229.000000</td>\n",
       "      <td>3.000000</td>\n",
       "      <td>1.000000</td>\n",
       "    </tr>\n",
       "  </tbody>\n",
       "</table>\n",
       "</div>"
      ],
      "text/plain": [
       "       frontend_question_id  question_id  difficulty  reward_val\n",
       "count            400.000000   400.000000  400.000000  400.000000\n",
       "mean             680.360000   706.897500    2.257500    0.727500\n",
       "std              264.711117   285.608785    0.634192    0.445803\n",
       "min              166.000000   166.000000    1.000000    0.000000\n",
       "25%              448.500000   452.500000    2.000000    0.000000\n",
       "50%              719.500000   740.000000    2.000000    1.000000\n",
       "75%              900.500000   938.250000    3.000000    1.000000\n",
       "max             1129.000000  1229.000000    3.000000    1.000000"
      ]
     },
     "execution_count": 88,
     "metadata": {},
     "output_type": "execute_result"
    }
   ],
   "source": [
    "# fname_gpt4_0613_df.iloc[100:500][fname_gpt4_0613_df.iloc[100:500].difficulty==3].describe()\n",
    "fname_gpt4_0613_df.iloc[100:500].describe()"
   ]
  },
  {
   "cell_type": "code",
   "execution_count": 73,
   "id": "078f6c81",
   "metadata": {
    "scrolled": true
   },
   "outputs": [
    {
     "name": "stderr",
     "output_type": "stream",
     "text": [
      "/var/folders/zw/ldnm5skj21x918gm28kfk4700000gn/T/ipykernel_38831/1727613683.py:3: SettingWithCopyWarning:\n",
      "\n",
      "\n",
      "A value is trying to be set on a copy of a slice from a DataFrame\n",
      "\n",
      "See the caveats in the documentation: https://pandas.pydata.org/pandas-docs/stable/user_guide/indexing.html#returning-a-view-versus-a-copy\n",
      "\n",
      "/var/folders/zw/ldnm5skj21x918gm28kfk4700000gn/T/ipykernel_38831/1727613683.py:6: SettingWithCopyWarning:\n",
      "\n",
      "\n",
      "A value is trying to be set on a copy of a slice from a DataFrame.\n",
      "Try using .loc[row_indexer,col_indexer] = value instead\n",
      "\n",
      "See the caveats in the documentation: https://pandas.pydata.org/pandas-docs/stable/user_guide/indexing.html#returning-a-view-versus-a-copy\n",
      "\n",
      "/var/folders/zw/ldnm5skj21x918gm28kfk4700000gn/T/ipykernel_38831/1727613683.py:18: FutureWarning:\n",
      "\n",
      "The frame.append method is deprecated and will be removed from pandas in a future version. Use pandas.concat instead.\n",
      "\n",
      "/var/folders/zw/ldnm5skj21x918gm28kfk4700000gn/T/ipykernel_38831/1727613683.py:18: FutureWarning:\n",
      "\n",
      "The frame.append method is deprecated and will be removed from pandas in a future version. Use pandas.concat instead.\n",
      "\n",
      "/var/folders/zw/ldnm5skj21x918gm28kfk4700000gn/T/ipykernel_38831/1727613683.py:18: FutureWarning:\n",
      "\n",
      "The frame.append method is deprecated and will be removed from pandas in a future version. Use pandas.concat instead.\n",
      "\n",
      "/var/folders/zw/ldnm5skj21x918gm28kfk4700000gn/T/ipykernel_38831/1727613683.py:3: SettingWithCopyWarning:\n",
      "\n",
      "\n",
      "A value is trying to be set on a copy of a slice from a DataFrame\n",
      "\n",
      "See the caveats in the documentation: https://pandas.pydata.org/pandas-docs/stable/user_guide/indexing.html#returning-a-view-versus-a-copy\n",
      "\n",
      "/var/folders/zw/ldnm5skj21x918gm28kfk4700000gn/T/ipykernel_38831/1727613683.py:6: SettingWithCopyWarning:\n",
      "\n",
      "\n",
      "A value is trying to be set on a copy of a slice from a DataFrame.\n",
      "Try using .loc[row_indexer,col_indexer] = value instead\n",
      "\n",
      "See the caveats in the documentation: https://pandas.pydata.org/pandas-docs/stable/user_guide/indexing.html#returning-a-view-versus-a-copy\n",
      "\n",
      "/var/folders/zw/ldnm5skj21x918gm28kfk4700000gn/T/ipykernel_38831/1727613683.py:18: FutureWarning:\n",
      "\n",
      "The frame.append method is deprecated and will be removed from pandas in a future version. Use pandas.concat instead.\n",
      "\n",
      "/var/folders/zw/ldnm5skj21x918gm28kfk4700000gn/T/ipykernel_38831/1727613683.py:18: FutureWarning:\n",
      "\n",
      "The frame.append method is deprecated and will be removed from pandas in a future version. Use pandas.concat instead.\n",
      "\n",
      "/var/folders/zw/ldnm5skj21x918gm28kfk4700000gn/T/ipykernel_38831/1727613683.py:18: FutureWarning:\n",
      "\n",
      "The frame.append method is deprecated and will be removed from pandas in a future version. Use pandas.concat instead.\n",
      "\n"
     ]
    },
    {
     "data": {
      "application/vnd.plotly.v1+json": {
       "config": {
        "plotlyServerURL": "https://plot.ly"
       },
       "data": [
        {
         "hovertemplate": "Difficulty=Easy<br>frontend_question_id=%{x}<br>moving_average=%{y}<extra></extra>",
         "legendgroup": "Easy",
         "line": {
          "color": "#636efa",
          "dash": "solid"
         },
         "marker": {
          "symbol": "circle"
         },
         "mode": "lines",
         "name": "Easy",
         "orientation": "v",
         "showlegend": true,
         "type": "scatter",
         "x": [
          242,
          268,
          290,
          338,
          349,
          367,
          414,
          459,
          496
         ],
         "xaxis": "x",
         "y": [
          null,
          null,
          null,
          null,
          null,
          null,
          null,
          null,
          null
         ],
         "yaxis": "y"
        },
        {
         "hovertemplate": "Difficulty=Medium<br>frontend_question_id=%{x}<br>moving_average=%{y}<extra></extra>",
         "legendgroup": "Medium",
         "line": {
          "color": "#EF553B",
          "dash": "solid"
         },
         "marker": {
          "symbol": "circle"
         },
         "mode": "lines",
         "name": "Medium",
         "orientation": "v",
         "showlegend": true,
         "type": "scatter",
         "x": [
          235,
          260,
          264,
          274,
          279,
          287,
          299,
          300,
          304,
          309,
          313,
          324,
          337,
          341,
          347,
          357,
          365,
          368,
          372,
          373,
          375,
          376,
          378,
          382,
          385,
          386,
          394,
          395,
          397,
          398,
          399,
          402,
          406,
          413,
          419,
          421,
          423,
          424,
          427,
          430,
          433,
          436,
          445,
          447,
          449,
          451,
          453,
          454,
          467,
          468,
          473,
          474,
          475,
          477,
          478
         ],
         "xaxis": "x",
         "y": [
          null,
          null,
          null,
          null,
          null,
          null,
          null,
          null,
          null,
          0.9,
          0.8,
          0.8,
          0.7,
          0.7,
          0.8,
          0.8,
          0.8,
          0.8,
          0.8,
          0.8,
          0.8,
          0.8,
          0.9,
          0.9,
          0.9,
          0.9,
          0.9,
          0.9,
          0.9,
          0.9,
          1,
          1,
          1,
          1,
          1,
          0.9,
          0.8,
          0.8,
          0.7,
          0.7,
          0.7,
          0.7,
          0.7,
          0.7,
          0.7,
          0.8,
          0.9,
          0.9,
          1,
          1,
          0.9,
          0.9,
          0.9,
          0.9,
          0.9
         ],
         "yaxis": "y"
        },
        {
         "hovertemplate": "Difficulty=Hard<br>frontend_question_id=%{x}<br>moving_average=%{y}<extra></extra>",
         "legendgroup": "Hard",
         "line": {
          "color": "#00cc96",
          "dash": "solid"
         },
         "marker": {
          "symbol": "circle"
         },
         "mode": "lines",
         "name": "Hard",
         "orientation": "v",
         "showlegend": true,
         "type": "scatter",
         "x": [
          239,
          273,
          282,
          295,
          297,
          301,
          312,
          315,
          321,
          327,
          329,
          330,
          332,
          335,
          336,
          352,
          354,
          363,
          381,
          391,
          403,
          407,
          410,
          420,
          432,
          440,
          446,
          458,
          460,
          466,
          472,
          479,
          480,
          483,
          488,
          493
         ],
         "xaxis": "x",
         "y": [
          null,
          null,
          null,
          null,
          null,
          null,
          null,
          null,
          null,
          0.6,
          0.6,
          0.7,
          0.6,
          0.6,
          0.6,
          0.6,
          0.7,
          0.8,
          0.8,
          0.9,
          0.9,
          0.9,
          1,
          0.9,
          0.8,
          0.8,
          0.7,
          0.7,
          0.7,
          0.6,
          0.5,
          0.4,
          0.3,
          0.4,
          0.4,
          0.4
         ],
         "yaxis": "y"
        },
        {
         "line": {
          "dash": "dot"
         },
         "mode": "lines",
         "name": "Easy",
         "type": "scatter",
         "x": [
          242,
          268,
          290,
          338,
          349,
          367,
          414,
          459,
          496
         ],
         "y": [
          null,
          null,
          null,
          null,
          null,
          null,
          null,
          null,
          null
         ]
        },
        {
         "line": {
          "dash": "dot"
         },
         "mode": "lines",
         "name": "Medium",
         "type": "scatter",
         "x": [
          235,
          260,
          264,
          274,
          279,
          287,
          299,
          300,
          304,
          309,
          313,
          324,
          337,
          341,
          347,
          357,
          365,
          368,
          372,
          373,
          375,
          376,
          378,
          382,
          385,
          386,
          394,
          395,
          397,
          398,
          399,
          402,
          406,
          413,
          419,
          421,
          423,
          424,
          427,
          430,
          433,
          436,
          445,
          447,
          449,
          451,
          453,
          454,
          467,
          468,
          473,
          474,
          475,
          477,
          478
         ],
         "y": [
          null,
          null,
          null,
          null,
          null,
          null,
          null,
          null,
          null,
          0.9,
          0.8,
          0.8,
          0.7,
          0.7,
          0.8,
          0.8,
          0.8,
          0.8,
          0.8,
          0.8,
          0.8,
          0.8,
          0.9,
          0.9,
          0.9,
          0.9,
          0.9,
          0.9,
          0.9,
          0.9,
          1,
          1,
          1,
          1,
          1,
          0.9,
          0.8,
          0.8,
          0.7,
          0.7,
          0.7,
          0.7,
          0.7,
          0.7,
          0.7,
          0.8,
          0.9,
          0.9,
          1,
          1,
          0.9,
          0.9,
          0.9,
          0.9,
          0.9
         ]
        },
        {
         "line": {
          "dash": "dot"
         },
         "mode": "lines",
         "name": "Hard",
         "type": "scatter",
         "x": [
          239,
          273,
          282,
          295,
          297,
          301,
          312,
          315,
          321,
          327,
          329,
          330,
          332,
          335,
          336,
          352,
          354,
          363,
          381,
          391,
          403,
          407,
          410,
          420,
          432,
          440,
          446,
          458,
          460,
          466,
          472,
          479,
          480,
          483,
          488,
          493
         ],
         "y": [
          null,
          null,
          null,
          null,
          null,
          null,
          null,
          null,
          null,
          0.6,
          0.6,
          0.7,
          0.6,
          0.6,
          0.6,
          0.6,
          0.7,
          0.8,
          0.8,
          0.9,
          0.9,
          0.9,
          1,
          0.9,
          0.8,
          0.8,
          0.7,
          0.7,
          0.7,
          0.6,
          0.5,
          0.4,
          0.3,
          0.4,
          0.4,
          0.4
         ]
        }
       ],
       "layout": {
        "legend": {
         "title": {
          "text": "Difficulty"
         },
         "tracegroupgap": 0
        },
        "margin": {
         "t": 60
        },
        "template": {
         "data": {
          "bar": [
           {
            "error_x": {
             "color": "#2a3f5f"
            },
            "error_y": {
             "color": "#2a3f5f"
            },
            "marker": {
             "line": {
              "color": "#E5ECF6",
              "width": 0.5
             },
             "pattern": {
              "fillmode": "overlay",
              "size": 10,
              "solidity": 0.2
             }
            },
            "type": "bar"
           }
          ],
          "barpolar": [
           {
            "marker": {
             "line": {
              "color": "#E5ECF6",
              "width": 0.5
             },
             "pattern": {
              "fillmode": "overlay",
              "size": 10,
              "solidity": 0.2
             }
            },
            "type": "barpolar"
           }
          ],
          "carpet": [
           {
            "aaxis": {
             "endlinecolor": "#2a3f5f",
             "gridcolor": "white",
             "linecolor": "white",
             "minorgridcolor": "white",
             "startlinecolor": "#2a3f5f"
            },
            "baxis": {
             "endlinecolor": "#2a3f5f",
             "gridcolor": "white",
             "linecolor": "white",
             "minorgridcolor": "white",
             "startlinecolor": "#2a3f5f"
            },
            "type": "carpet"
           }
          ],
          "choropleth": [
           {
            "colorbar": {
             "outlinewidth": 0,
             "ticks": ""
            },
            "type": "choropleth"
           }
          ],
          "contour": [
           {
            "colorbar": {
             "outlinewidth": 0,
             "ticks": ""
            },
            "colorscale": [
             [
              0,
              "#0d0887"
             ],
             [
              0.1111111111111111,
              "#46039f"
             ],
             [
              0.2222222222222222,
              "#7201a8"
             ],
             [
              0.3333333333333333,
              "#9c179e"
             ],
             [
              0.4444444444444444,
              "#bd3786"
             ],
             [
              0.5555555555555556,
              "#d8576b"
             ],
             [
              0.6666666666666666,
              "#ed7953"
             ],
             [
              0.7777777777777778,
              "#fb9f3a"
             ],
             [
              0.8888888888888888,
              "#fdca26"
             ],
             [
              1,
              "#f0f921"
             ]
            ],
            "type": "contour"
           }
          ],
          "contourcarpet": [
           {
            "colorbar": {
             "outlinewidth": 0,
             "ticks": ""
            },
            "type": "contourcarpet"
           }
          ],
          "heatmap": [
           {
            "colorbar": {
             "outlinewidth": 0,
             "ticks": ""
            },
            "colorscale": [
             [
              0,
              "#0d0887"
             ],
             [
              0.1111111111111111,
              "#46039f"
             ],
             [
              0.2222222222222222,
              "#7201a8"
             ],
             [
              0.3333333333333333,
              "#9c179e"
             ],
             [
              0.4444444444444444,
              "#bd3786"
             ],
             [
              0.5555555555555556,
              "#d8576b"
             ],
             [
              0.6666666666666666,
              "#ed7953"
             ],
             [
              0.7777777777777778,
              "#fb9f3a"
             ],
             [
              0.8888888888888888,
              "#fdca26"
             ],
             [
              1,
              "#f0f921"
             ]
            ],
            "type": "heatmap"
           }
          ],
          "heatmapgl": [
           {
            "colorbar": {
             "outlinewidth": 0,
             "ticks": ""
            },
            "colorscale": [
             [
              0,
              "#0d0887"
             ],
             [
              0.1111111111111111,
              "#46039f"
             ],
             [
              0.2222222222222222,
              "#7201a8"
             ],
             [
              0.3333333333333333,
              "#9c179e"
             ],
             [
              0.4444444444444444,
              "#bd3786"
             ],
             [
              0.5555555555555556,
              "#d8576b"
             ],
             [
              0.6666666666666666,
              "#ed7953"
             ],
             [
              0.7777777777777778,
              "#fb9f3a"
             ],
             [
              0.8888888888888888,
              "#fdca26"
             ],
             [
              1,
              "#f0f921"
             ]
            ],
            "type": "heatmapgl"
           }
          ],
          "histogram": [
           {
            "marker": {
             "pattern": {
              "fillmode": "overlay",
              "size": 10,
              "solidity": 0.2
             }
            },
            "type": "histogram"
           }
          ],
          "histogram2d": [
           {
            "colorbar": {
             "outlinewidth": 0,
             "ticks": ""
            },
            "colorscale": [
             [
              0,
              "#0d0887"
             ],
             [
              0.1111111111111111,
              "#46039f"
             ],
             [
              0.2222222222222222,
              "#7201a8"
             ],
             [
              0.3333333333333333,
              "#9c179e"
             ],
             [
              0.4444444444444444,
              "#bd3786"
             ],
             [
              0.5555555555555556,
              "#d8576b"
             ],
             [
              0.6666666666666666,
              "#ed7953"
             ],
             [
              0.7777777777777778,
              "#fb9f3a"
             ],
             [
              0.8888888888888888,
              "#fdca26"
             ],
             [
              1,
              "#f0f921"
             ]
            ],
            "type": "histogram2d"
           }
          ],
          "histogram2dcontour": [
           {
            "colorbar": {
             "outlinewidth": 0,
             "ticks": ""
            },
            "colorscale": [
             [
              0,
              "#0d0887"
             ],
             [
              0.1111111111111111,
              "#46039f"
             ],
             [
              0.2222222222222222,
              "#7201a8"
             ],
             [
              0.3333333333333333,
              "#9c179e"
             ],
             [
              0.4444444444444444,
              "#bd3786"
             ],
             [
              0.5555555555555556,
              "#d8576b"
             ],
             [
              0.6666666666666666,
              "#ed7953"
             ],
             [
              0.7777777777777778,
              "#fb9f3a"
             ],
             [
              0.8888888888888888,
              "#fdca26"
             ],
             [
              1,
              "#f0f921"
             ]
            ],
            "type": "histogram2dcontour"
           }
          ],
          "mesh3d": [
           {
            "colorbar": {
             "outlinewidth": 0,
             "ticks": ""
            },
            "type": "mesh3d"
           }
          ],
          "parcoords": [
           {
            "line": {
             "colorbar": {
              "outlinewidth": 0,
              "ticks": ""
             }
            },
            "type": "parcoords"
           }
          ],
          "pie": [
           {
            "automargin": true,
            "type": "pie"
           }
          ],
          "scatter": [
           {
            "fillpattern": {
             "fillmode": "overlay",
             "size": 10,
             "solidity": 0.2
            },
            "type": "scatter"
           }
          ],
          "scatter3d": [
           {
            "line": {
             "colorbar": {
              "outlinewidth": 0,
              "ticks": ""
             }
            },
            "marker": {
             "colorbar": {
              "outlinewidth": 0,
              "ticks": ""
             }
            },
            "type": "scatter3d"
           }
          ],
          "scattercarpet": [
           {
            "marker": {
             "colorbar": {
              "outlinewidth": 0,
              "ticks": ""
             }
            },
            "type": "scattercarpet"
           }
          ],
          "scattergeo": [
           {
            "marker": {
             "colorbar": {
              "outlinewidth": 0,
              "ticks": ""
             }
            },
            "type": "scattergeo"
           }
          ],
          "scattergl": [
           {
            "marker": {
             "colorbar": {
              "outlinewidth": 0,
              "ticks": ""
             }
            },
            "type": "scattergl"
           }
          ],
          "scattermapbox": [
           {
            "marker": {
             "colorbar": {
              "outlinewidth": 0,
              "ticks": ""
             }
            },
            "type": "scattermapbox"
           }
          ],
          "scatterpolar": [
           {
            "marker": {
             "colorbar": {
              "outlinewidth": 0,
              "ticks": ""
             }
            },
            "type": "scatterpolar"
           }
          ],
          "scatterpolargl": [
           {
            "marker": {
             "colorbar": {
              "outlinewidth": 0,
              "ticks": ""
             }
            },
            "type": "scatterpolargl"
           }
          ],
          "scatterternary": [
           {
            "marker": {
             "colorbar": {
              "outlinewidth": 0,
              "ticks": ""
             }
            },
            "type": "scatterternary"
           }
          ],
          "surface": [
           {
            "colorbar": {
             "outlinewidth": 0,
             "ticks": ""
            },
            "colorscale": [
             [
              0,
              "#0d0887"
             ],
             [
              0.1111111111111111,
              "#46039f"
             ],
             [
              0.2222222222222222,
              "#7201a8"
             ],
             [
              0.3333333333333333,
              "#9c179e"
             ],
             [
              0.4444444444444444,
              "#bd3786"
             ],
             [
              0.5555555555555556,
              "#d8576b"
             ],
             [
              0.6666666666666666,
              "#ed7953"
             ],
             [
              0.7777777777777778,
              "#fb9f3a"
             ],
             [
              0.8888888888888888,
              "#fdca26"
             ],
             [
              1,
              "#f0f921"
             ]
            ],
            "type": "surface"
           }
          ],
          "table": [
           {
            "cells": {
             "fill": {
              "color": "#EBF0F8"
             },
             "line": {
              "color": "white"
             }
            },
            "header": {
             "fill": {
              "color": "#C8D4E3"
             },
             "line": {
              "color": "white"
             }
            },
            "type": "table"
           }
          ]
         },
         "layout": {
          "annotationdefaults": {
           "arrowcolor": "#2a3f5f",
           "arrowhead": 0,
           "arrowwidth": 1
          },
          "autotypenumbers": "strict",
          "coloraxis": {
           "colorbar": {
            "outlinewidth": 0,
            "ticks": ""
           }
          },
          "colorscale": {
           "diverging": [
            [
             0,
             "#8e0152"
            ],
            [
             0.1,
             "#c51b7d"
            ],
            [
             0.2,
             "#de77ae"
            ],
            [
             0.3,
             "#f1b6da"
            ],
            [
             0.4,
             "#fde0ef"
            ],
            [
             0.5,
             "#f7f7f7"
            ],
            [
             0.6,
             "#e6f5d0"
            ],
            [
             0.7,
             "#b8e186"
            ],
            [
             0.8,
             "#7fbc41"
            ],
            [
             0.9,
             "#4d9221"
            ],
            [
             1,
             "#276419"
            ]
           ],
           "sequential": [
            [
             0,
             "#0d0887"
            ],
            [
             0.1111111111111111,
             "#46039f"
            ],
            [
             0.2222222222222222,
             "#7201a8"
            ],
            [
             0.3333333333333333,
             "#9c179e"
            ],
            [
             0.4444444444444444,
             "#bd3786"
            ],
            [
             0.5555555555555556,
             "#d8576b"
            ],
            [
             0.6666666666666666,
             "#ed7953"
            ],
            [
             0.7777777777777778,
             "#fb9f3a"
            ],
            [
             0.8888888888888888,
             "#fdca26"
            ],
            [
             1,
             "#f0f921"
            ]
           ],
           "sequentialminus": [
            [
             0,
             "#0d0887"
            ],
            [
             0.1111111111111111,
             "#46039f"
            ],
            [
             0.2222222222222222,
             "#7201a8"
            ],
            [
             0.3333333333333333,
             "#9c179e"
            ],
            [
             0.4444444444444444,
             "#bd3786"
            ],
            [
             0.5555555555555556,
             "#d8576b"
            ],
            [
             0.6666666666666666,
             "#ed7953"
            ],
            [
             0.7777777777777778,
             "#fb9f3a"
            ],
            [
             0.8888888888888888,
             "#fdca26"
            ],
            [
             1,
             "#f0f921"
            ]
           ]
          },
          "colorway": [
           "#636efa",
           "#EF553B",
           "#00cc96",
           "#ab63fa",
           "#FFA15A",
           "#19d3f3",
           "#FF6692",
           "#B6E880",
           "#FF97FF",
           "#FECB52"
          ],
          "font": {
           "color": "#2a3f5f"
          },
          "geo": {
           "bgcolor": "white",
           "lakecolor": "white",
           "landcolor": "#E5ECF6",
           "showlakes": true,
           "showland": true,
           "subunitcolor": "white"
          },
          "hoverlabel": {
           "align": "left"
          },
          "hovermode": "closest",
          "mapbox": {
           "style": "light"
          },
          "paper_bgcolor": "white",
          "plot_bgcolor": "#E5ECF6",
          "polar": {
           "angularaxis": {
            "gridcolor": "white",
            "linecolor": "white",
            "ticks": ""
           },
           "bgcolor": "#E5ECF6",
           "radialaxis": {
            "gridcolor": "white",
            "linecolor": "white",
            "ticks": ""
           }
          },
          "scene": {
           "xaxis": {
            "backgroundcolor": "#E5ECF6",
            "gridcolor": "white",
            "gridwidth": 2,
            "linecolor": "white",
            "showbackground": true,
            "ticks": "",
            "zerolinecolor": "white"
           },
           "yaxis": {
            "backgroundcolor": "#E5ECF6",
            "gridcolor": "white",
            "gridwidth": 2,
            "linecolor": "white",
            "showbackground": true,
            "ticks": "",
            "zerolinecolor": "white"
           },
           "zaxis": {
            "backgroundcolor": "#E5ECF6",
            "gridcolor": "white",
            "gridwidth": 2,
            "linecolor": "white",
            "showbackground": true,
            "ticks": "",
            "zerolinecolor": "white"
           }
          },
          "shapedefaults": {
           "line": {
            "color": "#2a3f5f"
           }
          },
          "ternary": {
           "aaxis": {
            "gridcolor": "white",
            "linecolor": "white",
            "ticks": ""
           },
           "baxis": {
            "gridcolor": "white",
            "linecolor": "white",
            "ticks": ""
           },
           "bgcolor": "#E5ECF6",
           "caxis": {
            "gridcolor": "white",
            "linecolor": "white",
            "ticks": ""
           }
          },
          "title": {
           "x": 0.05
          },
          "xaxis": {
           "automargin": true,
           "gridcolor": "white",
           "linecolor": "white",
           "ticks": "",
           "title": {
            "standoff": 15
           },
           "zerolinecolor": "white",
           "zerolinewidth": 2
          },
          "yaxis": {
           "automargin": true,
           "gridcolor": "white",
           "linecolor": "white",
           "ticks": "",
           "title": {
            "standoff": 15
           },
           "zerolinecolor": "white",
           "zerolinewidth": 2
          }
         }
        },
        "title": {
         "text": "Moving Average of Success Rate for Difficulties Easy, Medium, and Hard"
        },
        "xaxis": {
         "anchor": "y",
         "domain": [
          0,
          1
         ],
         "title": {
          "text": "frontend_question_id"
         }
        },
        "yaxis": {
         "anchor": "x",
         "domain": [
          0,
          1
         ],
         "title": {
          "text": "moving_average"
         }
        }
       }
      },
      "text/html": [
       "<div>                            <div id=\"f9470348-a2b6-48fd-a524-1e068444adbd\" class=\"plotly-graph-div\" style=\"height:525px; width:100%;\"></div>            <script type=\"text/javascript\">                require([\"plotly\"], function(Plotly) {                    window.PLOTLYENV=window.PLOTLYENV || {};                                    if (document.getElementById(\"f9470348-a2b6-48fd-a524-1e068444adbd\")) {                    Plotly.newPlot(                        \"f9470348-a2b6-48fd-a524-1e068444adbd\",                        [{\"hovertemplate\":\"Difficulty=Easy\\u003cbr\\u003efrontend_question_id=%{x}\\u003cbr\\u003emoving_average=%{y}\\u003cextra\\u003e\\u003c\\u002fextra\\u003e\",\"legendgroup\":\"Easy\",\"line\":{\"color\":\"#636efa\",\"dash\":\"solid\"},\"marker\":{\"symbol\":\"circle\"},\"mode\":\"lines\",\"name\":\"Easy\",\"orientation\":\"v\",\"showlegend\":true,\"x\":[242.0,268.0,290.0,338.0,349.0,367.0,414.0,459.0,496.0],\"xaxis\":\"x\",\"y\":[null,null,null,null,null,null,null,null,null],\"yaxis\":\"y\",\"type\":\"scatter\"},{\"hovertemplate\":\"Difficulty=Medium\\u003cbr\\u003efrontend_question_id=%{x}\\u003cbr\\u003emoving_average=%{y}\\u003cextra\\u003e\\u003c\\u002fextra\\u003e\",\"legendgroup\":\"Medium\",\"line\":{\"color\":\"#EF553B\",\"dash\":\"solid\"},\"marker\":{\"symbol\":\"circle\"},\"mode\":\"lines\",\"name\":\"Medium\",\"orientation\":\"v\",\"showlegend\":true,\"x\":[235.0,260.0,264.0,274.0,279.0,287.0,299.0,300.0,304.0,309.0,313.0,324.0,337.0,341.0,347.0,357.0,365.0,368.0,372.0,373.0,375.0,376.0,378.0,382.0,385.0,386.0,394.0,395.0,397.0,398.0,399.0,402.0,406.0,413.0,419.0,421.0,423.0,424.0,427.0,430.0,433.0,436.0,445.0,447.0,449.0,451.0,453.0,454.0,467.0,468.0,473.0,474.0,475.0,477.0,478.0],\"xaxis\":\"x\",\"y\":[null,null,null,null,null,null,null,null,null,0.9,0.8,0.8,0.7,0.7,0.8,0.8,0.8,0.8,0.8,0.8,0.8,0.8,0.9,0.9,0.9,0.9,0.9,0.9,0.9,0.9,1.0,1.0,1.0,1.0,1.0,0.9,0.8,0.8,0.7,0.7,0.7,0.7,0.7,0.7,0.7,0.8,0.9,0.9,1.0,1.0,0.9,0.9,0.9,0.9,0.9],\"yaxis\":\"y\",\"type\":\"scatter\"},{\"hovertemplate\":\"Difficulty=Hard\\u003cbr\\u003efrontend_question_id=%{x}\\u003cbr\\u003emoving_average=%{y}\\u003cextra\\u003e\\u003c\\u002fextra\\u003e\",\"legendgroup\":\"Hard\",\"line\":{\"color\":\"#00cc96\",\"dash\":\"solid\"},\"marker\":{\"symbol\":\"circle\"},\"mode\":\"lines\",\"name\":\"Hard\",\"orientation\":\"v\",\"showlegend\":true,\"x\":[239.0,273.0,282.0,295.0,297.0,301.0,312.0,315.0,321.0,327.0,329.0,330.0,332.0,335.0,336.0,352.0,354.0,363.0,381.0,391.0,403.0,407.0,410.0,420.0,432.0,440.0,446.0,458.0,460.0,466.0,472.0,479.0,480.0,483.0,488.0,493.0],\"xaxis\":\"x\",\"y\":[null,null,null,null,null,null,null,null,null,0.6,0.6,0.7,0.6,0.6,0.6,0.6,0.7,0.8,0.8,0.9,0.9,0.9,1.0,0.9,0.8,0.8,0.7,0.7,0.7,0.6,0.5,0.4,0.3,0.4,0.4,0.4],\"yaxis\":\"y\",\"type\":\"scatter\"},{\"line\":{\"dash\":\"dot\"},\"mode\":\"lines\",\"name\":\"Easy\",\"x\":[242.0,268.0,290.0,338.0,349.0,367.0,414.0,459.0,496.0],\"y\":[null,null,null,null,null,null,null,null,null],\"type\":\"scatter\"},{\"line\":{\"dash\":\"dot\"},\"mode\":\"lines\",\"name\":\"Medium\",\"x\":[235.0,260.0,264.0,274.0,279.0,287.0,299.0,300.0,304.0,309.0,313.0,324.0,337.0,341.0,347.0,357.0,365.0,368.0,372.0,373.0,375.0,376.0,378.0,382.0,385.0,386.0,394.0,395.0,397.0,398.0,399.0,402.0,406.0,413.0,419.0,421.0,423.0,424.0,427.0,430.0,433.0,436.0,445.0,447.0,449.0,451.0,453.0,454.0,467.0,468.0,473.0,474.0,475.0,477.0,478.0],\"y\":[null,null,null,null,null,null,null,null,null,0.9,0.8,0.8,0.7,0.7,0.8,0.8,0.8,0.8,0.8,0.8,0.8,0.8,0.9,0.9,0.9,0.9,0.9,0.9,0.9,0.9,1.0,1.0,1.0,1.0,1.0,0.9,0.8,0.8,0.7,0.7,0.7,0.7,0.7,0.7,0.7,0.8,0.9,0.9,1.0,1.0,0.9,0.9,0.9,0.9,0.9],\"type\":\"scatter\"},{\"line\":{\"dash\":\"dot\"},\"mode\":\"lines\",\"name\":\"Hard\",\"x\":[239.0,273.0,282.0,295.0,297.0,301.0,312.0,315.0,321.0,327.0,329.0,330.0,332.0,335.0,336.0,352.0,354.0,363.0,381.0,391.0,403.0,407.0,410.0,420.0,432.0,440.0,446.0,458.0,460.0,466.0,472.0,479.0,480.0,483.0,488.0,493.0],\"y\":[null,null,null,null,null,null,null,null,null,0.6,0.6,0.7,0.6,0.6,0.6,0.6,0.7,0.8,0.8,0.9,0.9,0.9,1.0,0.9,0.8,0.8,0.7,0.7,0.7,0.6,0.5,0.4,0.3,0.4,0.4,0.4],\"type\":\"scatter\"}],                        {\"template\":{\"data\":{\"histogram2dcontour\":[{\"type\":\"histogram2dcontour\",\"colorbar\":{\"outlinewidth\":0,\"ticks\":\"\"},\"colorscale\":[[0.0,\"#0d0887\"],[0.1111111111111111,\"#46039f\"],[0.2222222222222222,\"#7201a8\"],[0.3333333333333333,\"#9c179e\"],[0.4444444444444444,\"#bd3786\"],[0.5555555555555556,\"#d8576b\"],[0.6666666666666666,\"#ed7953\"],[0.7777777777777778,\"#fb9f3a\"],[0.8888888888888888,\"#fdca26\"],[1.0,\"#f0f921\"]]}],\"choropleth\":[{\"type\":\"choropleth\",\"colorbar\":{\"outlinewidth\":0,\"ticks\":\"\"}}],\"histogram2d\":[{\"type\":\"histogram2d\",\"colorbar\":{\"outlinewidth\":0,\"ticks\":\"\"},\"colorscale\":[[0.0,\"#0d0887\"],[0.1111111111111111,\"#46039f\"],[0.2222222222222222,\"#7201a8\"],[0.3333333333333333,\"#9c179e\"],[0.4444444444444444,\"#bd3786\"],[0.5555555555555556,\"#d8576b\"],[0.6666666666666666,\"#ed7953\"],[0.7777777777777778,\"#fb9f3a\"],[0.8888888888888888,\"#fdca26\"],[1.0,\"#f0f921\"]]}],\"heatmap\":[{\"type\":\"heatmap\",\"colorbar\":{\"outlinewidth\":0,\"ticks\":\"\"},\"colorscale\":[[0.0,\"#0d0887\"],[0.1111111111111111,\"#46039f\"],[0.2222222222222222,\"#7201a8\"],[0.3333333333333333,\"#9c179e\"],[0.4444444444444444,\"#bd3786\"],[0.5555555555555556,\"#d8576b\"],[0.6666666666666666,\"#ed7953\"],[0.7777777777777778,\"#fb9f3a\"],[0.8888888888888888,\"#fdca26\"],[1.0,\"#f0f921\"]]}],\"heatmapgl\":[{\"type\":\"heatmapgl\",\"colorbar\":{\"outlinewidth\":0,\"ticks\":\"\"},\"colorscale\":[[0.0,\"#0d0887\"],[0.1111111111111111,\"#46039f\"],[0.2222222222222222,\"#7201a8\"],[0.3333333333333333,\"#9c179e\"],[0.4444444444444444,\"#bd3786\"],[0.5555555555555556,\"#d8576b\"],[0.6666666666666666,\"#ed7953\"],[0.7777777777777778,\"#fb9f3a\"],[0.8888888888888888,\"#fdca26\"],[1.0,\"#f0f921\"]]}],\"contourcarpet\":[{\"type\":\"contourcarpet\",\"colorbar\":{\"outlinewidth\":0,\"ticks\":\"\"}}],\"contour\":[{\"type\":\"contour\",\"colorbar\":{\"outlinewidth\":0,\"ticks\":\"\"},\"colorscale\":[[0.0,\"#0d0887\"],[0.1111111111111111,\"#46039f\"],[0.2222222222222222,\"#7201a8\"],[0.3333333333333333,\"#9c179e\"],[0.4444444444444444,\"#bd3786\"],[0.5555555555555556,\"#d8576b\"],[0.6666666666666666,\"#ed7953\"],[0.7777777777777778,\"#fb9f3a\"],[0.8888888888888888,\"#fdca26\"],[1.0,\"#f0f921\"]]}],\"surface\":[{\"type\":\"surface\",\"colorbar\":{\"outlinewidth\":0,\"ticks\":\"\"},\"colorscale\":[[0.0,\"#0d0887\"],[0.1111111111111111,\"#46039f\"],[0.2222222222222222,\"#7201a8\"],[0.3333333333333333,\"#9c179e\"],[0.4444444444444444,\"#bd3786\"],[0.5555555555555556,\"#d8576b\"],[0.6666666666666666,\"#ed7953\"],[0.7777777777777778,\"#fb9f3a\"],[0.8888888888888888,\"#fdca26\"],[1.0,\"#f0f921\"]]}],\"mesh3d\":[{\"type\":\"mesh3d\",\"colorbar\":{\"outlinewidth\":0,\"ticks\":\"\"}}],\"scatter\":[{\"fillpattern\":{\"fillmode\":\"overlay\",\"size\":10,\"solidity\":0.2},\"type\":\"scatter\"}],\"parcoords\":[{\"type\":\"parcoords\",\"line\":{\"colorbar\":{\"outlinewidth\":0,\"ticks\":\"\"}}}],\"scatterpolargl\":[{\"type\":\"scatterpolargl\",\"marker\":{\"colorbar\":{\"outlinewidth\":0,\"ticks\":\"\"}}}],\"bar\":[{\"error_x\":{\"color\":\"#2a3f5f\"},\"error_y\":{\"color\":\"#2a3f5f\"},\"marker\":{\"line\":{\"color\":\"#E5ECF6\",\"width\":0.5},\"pattern\":{\"fillmode\":\"overlay\",\"size\":10,\"solidity\":0.2}},\"type\":\"bar\"}],\"scattergeo\":[{\"type\":\"scattergeo\",\"marker\":{\"colorbar\":{\"outlinewidth\":0,\"ticks\":\"\"}}}],\"scatterpolar\":[{\"type\":\"scatterpolar\",\"marker\":{\"colorbar\":{\"outlinewidth\":0,\"ticks\":\"\"}}}],\"histogram\":[{\"marker\":{\"pattern\":{\"fillmode\":\"overlay\",\"size\":10,\"solidity\":0.2}},\"type\":\"histogram\"}],\"scattergl\":[{\"type\":\"scattergl\",\"marker\":{\"colorbar\":{\"outlinewidth\":0,\"ticks\":\"\"}}}],\"scatter3d\":[{\"type\":\"scatter3d\",\"line\":{\"colorbar\":{\"outlinewidth\":0,\"ticks\":\"\"}},\"marker\":{\"colorbar\":{\"outlinewidth\":0,\"ticks\":\"\"}}}],\"scattermapbox\":[{\"type\":\"scattermapbox\",\"marker\":{\"colorbar\":{\"outlinewidth\":0,\"ticks\":\"\"}}}],\"scatterternary\":[{\"type\":\"scatterternary\",\"marker\":{\"colorbar\":{\"outlinewidth\":0,\"ticks\":\"\"}}}],\"scattercarpet\":[{\"type\":\"scattercarpet\",\"marker\":{\"colorbar\":{\"outlinewidth\":0,\"ticks\":\"\"}}}],\"carpet\":[{\"aaxis\":{\"endlinecolor\":\"#2a3f5f\",\"gridcolor\":\"white\",\"linecolor\":\"white\",\"minorgridcolor\":\"white\",\"startlinecolor\":\"#2a3f5f\"},\"baxis\":{\"endlinecolor\":\"#2a3f5f\",\"gridcolor\":\"white\",\"linecolor\":\"white\",\"minorgridcolor\":\"white\",\"startlinecolor\":\"#2a3f5f\"},\"type\":\"carpet\"}],\"table\":[{\"cells\":{\"fill\":{\"color\":\"#EBF0F8\"},\"line\":{\"color\":\"white\"}},\"header\":{\"fill\":{\"color\":\"#C8D4E3\"},\"line\":{\"color\":\"white\"}},\"type\":\"table\"}],\"barpolar\":[{\"marker\":{\"line\":{\"color\":\"#E5ECF6\",\"width\":0.5},\"pattern\":{\"fillmode\":\"overlay\",\"size\":10,\"solidity\":0.2}},\"type\":\"barpolar\"}],\"pie\":[{\"automargin\":true,\"type\":\"pie\"}]},\"layout\":{\"autotypenumbers\":\"strict\",\"colorway\":[\"#636efa\",\"#EF553B\",\"#00cc96\",\"#ab63fa\",\"#FFA15A\",\"#19d3f3\",\"#FF6692\",\"#B6E880\",\"#FF97FF\",\"#FECB52\"],\"font\":{\"color\":\"#2a3f5f\"},\"hovermode\":\"closest\",\"hoverlabel\":{\"align\":\"left\"},\"paper_bgcolor\":\"white\",\"plot_bgcolor\":\"#E5ECF6\",\"polar\":{\"bgcolor\":\"#E5ECF6\",\"angularaxis\":{\"gridcolor\":\"white\",\"linecolor\":\"white\",\"ticks\":\"\"},\"radialaxis\":{\"gridcolor\":\"white\",\"linecolor\":\"white\",\"ticks\":\"\"}},\"ternary\":{\"bgcolor\":\"#E5ECF6\",\"aaxis\":{\"gridcolor\":\"white\",\"linecolor\":\"white\",\"ticks\":\"\"},\"baxis\":{\"gridcolor\":\"white\",\"linecolor\":\"white\",\"ticks\":\"\"},\"caxis\":{\"gridcolor\":\"white\",\"linecolor\":\"white\",\"ticks\":\"\"}},\"coloraxis\":{\"colorbar\":{\"outlinewidth\":0,\"ticks\":\"\"}},\"colorscale\":{\"sequential\":[[0.0,\"#0d0887\"],[0.1111111111111111,\"#46039f\"],[0.2222222222222222,\"#7201a8\"],[0.3333333333333333,\"#9c179e\"],[0.4444444444444444,\"#bd3786\"],[0.5555555555555556,\"#d8576b\"],[0.6666666666666666,\"#ed7953\"],[0.7777777777777778,\"#fb9f3a\"],[0.8888888888888888,\"#fdca26\"],[1.0,\"#f0f921\"]],\"sequentialminus\":[[0.0,\"#0d0887\"],[0.1111111111111111,\"#46039f\"],[0.2222222222222222,\"#7201a8\"],[0.3333333333333333,\"#9c179e\"],[0.4444444444444444,\"#bd3786\"],[0.5555555555555556,\"#d8576b\"],[0.6666666666666666,\"#ed7953\"],[0.7777777777777778,\"#fb9f3a\"],[0.8888888888888888,\"#fdca26\"],[1.0,\"#f0f921\"]],\"diverging\":[[0,\"#8e0152\"],[0.1,\"#c51b7d\"],[0.2,\"#de77ae\"],[0.3,\"#f1b6da\"],[0.4,\"#fde0ef\"],[0.5,\"#f7f7f7\"],[0.6,\"#e6f5d0\"],[0.7,\"#b8e186\"],[0.8,\"#7fbc41\"],[0.9,\"#4d9221\"],[1,\"#276419\"]]},\"xaxis\":{\"gridcolor\":\"white\",\"linecolor\":\"white\",\"ticks\":\"\",\"title\":{\"standoff\":15},\"zerolinecolor\":\"white\",\"automargin\":true,\"zerolinewidth\":2},\"yaxis\":{\"gridcolor\":\"white\",\"linecolor\":\"white\",\"ticks\":\"\",\"title\":{\"standoff\":15},\"zerolinecolor\":\"white\",\"automargin\":true,\"zerolinewidth\":2},\"scene\":{\"xaxis\":{\"backgroundcolor\":\"#E5ECF6\",\"gridcolor\":\"white\",\"linecolor\":\"white\",\"showbackground\":true,\"ticks\":\"\",\"zerolinecolor\":\"white\",\"gridwidth\":2},\"yaxis\":{\"backgroundcolor\":\"#E5ECF6\",\"gridcolor\":\"white\",\"linecolor\":\"white\",\"showbackground\":true,\"ticks\":\"\",\"zerolinecolor\":\"white\",\"gridwidth\":2},\"zaxis\":{\"backgroundcolor\":\"#E5ECF6\",\"gridcolor\":\"white\",\"linecolor\":\"white\",\"showbackground\":true,\"ticks\":\"\",\"zerolinecolor\":\"white\",\"gridwidth\":2}},\"shapedefaults\":{\"line\":{\"color\":\"#2a3f5f\"}},\"annotationdefaults\":{\"arrowcolor\":\"#2a3f5f\",\"arrowhead\":0,\"arrowwidth\":1},\"geo\":{\"bgcolor\":\"white\",\"landcolor\":\"#E5ECF6\",\"subunitcolor\":\"white\",\"showland\":true,\"showlakes\":true,\"lakecolor\":\"white\"},\"title\":{\"x\":0.05},\"mapbox\":{\"style\":\"light\"}}},\"xaxis\":{\"anchor\":\"y\",\"domain\":[0.0,1.0],\"title\":{\"text\":\"frontend_question_id\"}},\"yaxis\":{\"anchor\":\"x\",\"domain\":[0.0,1.0],\"title\":{\"text\":\"moving_average\"}},\"legend\":{\"title\":{\"text\":\"Difficulty\"},\"tracegroupgap\":0},\"margin\":{\"t\":60},\"title\":{\"text\":\"Moving Average of Success Rate for Difficulties Easy, Medium, and Hard\"}},                        {\"responsive\": true}                    ).then(function(){\n",
       "                            \n",
       "var gd = document.getElementById('f9470348-a2b6-48fd-a524-1e068444adbd');\n",
       "var x = new MutationObserver(function (mutations, observer) {{\n",
       "        var display = window.getComputedStyle(gd).display;\n",
       "        if (!display || display === 'none') {{\n",
       "            console.log([gd, 'removed!']);\n",
       "            Plotly.purge(gd);\n",
       "            observer.disconnect();\n",
       "        }}\n",
       "}});\n",
       "\n",
       "// Listen for the removal of the full notebook cells\n",
       "var notebookContainer = gd.closest('#notebook-container');\n",
       "if (notebookContainer) {{\n",
       "    x.observe(notebookContainer, {childList: true});\n",
       "}}\n",
       "\n",
       "// Listen for the clearing of the current output cell\n",
       "var outputEl = gd.closest('.output');\n",
       "if (outputEl) {{\n",
       "    x.observe(outputEl, {childList: true});\n",
       "}}\n",
       "\n",
       "                        })                };                });            </script>        </div>"
      ]
     },
     "metadata": {},
     "output_type": "display_data"
    }
   ],
   "source": [
    "\n",
    "def moving_avg_calc(in_df):\n",
    "    # Fill missing difficulties with a placeholder value\n",
    "    in_df['difficulty'].fillna(0, inplace=True)\n",
    "\n",
    "    # Calculate success (1 for Accepted, 0 for others)\n",
    "    in_df['success'] = in_df['reward'].apply(lambda x: 1 if x == True else 0)\n",
    "\n",
    "\n",
    "    # Create a DataFrame to hold the moving averages for each difficulty\n",
    "    moving_avg_df = pd.DataFrame()\n",
    "\n",
    "    window_size = 10 # You can choose your own window size for moving average\n",
    "    difficulty_mapping = {1: 'Easy', 2: 'Medium', 3: 'Hard'}\n",
    "    for difficulty, label in difficulty_mapping.items():\n",
    "        subset = in_df[in_df['difficulty'] == difficulty].copy()\n",
    "        subset['moving_average'] = subset['success'].rolling(window=window_size).mean()\n",
    "        subset['difficulty_label'] = label\n",
    "        moving_avg_df = moving_avg_df.append(subset)\n",
    "    return moving_avg_df\n",
    "        \n",
    "\n",
    "# Sort the DataFrame by frontend_question_id\n",
    "fname_gpt3p5_0613_df.sort_values('frontend_question_id', inplace=True)\n",
    "fname_gpt4_0613_df.sort_values('frontend_question_id', inplace=True)\n",
    "\n",
    "fname_gpt3p5_0613_df_ma = moving_avg_calc(fname_gpt3p5_0613_df.iloc[100:200])\n",
    "fname_gpt4_0613_df_ma = moving_avg_calc(fname_gpt4_0613_df.iloc[100:200])\n",
    "\n",
    "# Plot using Plotly\n",
    "fig = px.line(fname_gpt3p5_0613_df_ma, x='frontend_question_id', y='moving_average', color='difficulty_label', labels={'difficulty_label': 'Difficulty'})\n",
    "for trace in fig.data:\n",
    "    trace.line.dash = 'solid'\n",
    "\n",
    "# Add second set of lines with dotted pattern\n",
    "for difficulty in fname_gpt4_0613_df_ma['difficulty_label'].unique():\n",
    "    subset = fname_gpt4_0613_df_ma[fname_gpt4_0613_df_ma['difficulty_label'] == difficulty]\n",
    "    fig.add_trace(go.Scatter(x=subset['frontend_question_id'], y=subset['moving_average'], mode='lines', line=dict(dash='dot'), name=difficulty))\n",
    "\n",
    "fig.update_layout(title='Moving Average of Success Rate for Difficulties Easy, Medium, and Hard')\n",
    "fig.show()\n",
    "\n",
    "\n",
    "\n"
   ]
  }
 ],
 "metadata": {
  "kernelspec": {
   "display_name": "Python 3 (ipykernel)",
   "language": "python",
   "name": "python3"
  },
  "language_info": {
   "codemirror_mode": {
    "name": "ipython",
    "version": 3
   },
   "file_extension": ".py",
   "mimetype": "text/x-python",
   "name": "python",
   "nbconvert_exporter": "python",
   "pygments_lexer": "ipython3",
   "version": "3.9.13"
  }
 },
 "nbformat": 4,
 "nbformat_minor": 5
}
